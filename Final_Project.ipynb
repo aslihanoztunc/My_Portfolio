{
 "cells": [
  {
   "cell_type": "markdown",
   "id": "1d580d15",
   "metadata": {
    "id": "1d580d15"
   },
   "source": [
    "Name: Aslihan Oztunc\n",
    "<br>Date: June 18th, 2023"
   ]
  },
  {
   "cell_type": "markdown",
   "id": "a9fa519e",
   "metadata": {
    "id": "a9fa519e"
   },
   "source": [
    "<font size = 5> Short Description of My Dataset"
   ]
  },
  {
   "cell_type": "markdown",
   "id": "a5aed1f8",
   "metadata": {
    "id": "a5aed1f8"
   },
   "source": [
    "The dataset is called \"Bike Sharing Dataset\" that was downloaded on https://archive.ics.uci.edu/ml/datasets/bike+sharing+dataset.\n",
    "It contains daily count of rental bikes between years 2011 and 2012 in Capital bikeshare system with the corresponding weather and seasonal information."
   ]
  },
  {
   "cell_type": "markdown",
   "id": "a83de94e",
   "metadata": {
    "id": "a83de94e"
   },
   "source": [
    "I am interested in this dataset because the data is pretty clean and straightforward. Since the subject is about bicycles, I thought it would be enjoyable to work on this subject."
   ]
  },
  {
   "cell_type": "markdown",
   "id": "a92bd5eb",
   "metadata": {
    "id": "a92bd5eb"
   },
   "source": [
    "<font size = 5> Import and Read the Dataset"
   ]
  },
  {
   "cell_type": "code",
   "execution_count": 1,
   "id": "7ba05cb8",
   "metadata": {
    "colab": {
     "base_uri": "https://localhost:8080/",
     "height": 424
    },
    "id": "7ba05cb8",
    "outputId": "9f65efa6-1cc1-4618-ee8c-695ac77b2c4d",
    "scrolled": true
   },
   "outputs": [
    {
     "data": {
      "text/html": [
       "<div>\n",
       "<style scoped>\n",
       "    .dataframe tbody tr th:only-of-type {\n",
       "        vertical-align: middle;\n",
       "    }\n",
       "\n",
       "    .dataframe tbody tr th {\n",
       "        vertical-align: top;\n",
       "    }\n",
       "\n",
       "    .dataframe thead th {\n",
       "        text-align: right;\n",
       "    }\n",
       "</style>\n",
       "<table border=\"1\" class=\"dataframe\">\n",
       "  <thead>\n",
       "    <tr style=\"text-align: right;\">\n",
       "      <th></th>\n",
       "      <th>instant</th>\n",
       "      <th>dteday</th>\n",
       "      <th>season</th>\n",
       "      <th>yr</th>\n",
       "      <th>mnth</th>\n",
       "      <th>holiday</th>\n",
       "      <th>weekday</th>\n",
       "      <th>workingday</th>\n",
       "      <th>weathersit</th>\n",
       "      <th>temp</th>\n",
       "      <th>atemp</th>\n",
       "      <th>hum</th>\n",
       "      <th>windspeed</th>\n",
       "      <th>casual</th>\n",
       "      <th>registered</th>\n",
       "      <th>cnt</th>\n",
       "    </tr>\n",
       "  </thead>\n",
       "  <tbody>\n",
       "    <tr>\n",
       "      <th>0</th>\n",
       "      <td>1</td>\n",
       "      <td>2011-01-01</td>\n",
       "      <td>1</td>\n",
       "      <td>0</td>\n",
       "      <td>1</td>\n",
       "      <td>0</td>\n",
       "      <td>6</td>\n",
       "      <td>0</td>\n",
       "      <td>2</td>\n",
       "      <td>0.344167</td>\n",
       "      <td>0.363625</td>\n",
       "      <td>0.805833</td>\n",
       "      <td>0.160446</td>\n",
       "      <td>331</td>\n",
       "      <td>654</td>\n",
       "      <td>985</td>\n",
       "    </tr>\n",
       "    <tr>\n",
       "      <th>1</th>\n",
       "      <td>2</td>\n",
       "      <td>2011-01-02</td>\n",
       "      <td>1</td>\n",
       "      <td>0</td>\n",
       "      <td>1</td>\n",
       "      <td>0</td>\n",
       "      <td>0</td>\n",
       "      <td>0</td>\n",
       "      <td>2</td>\n",
       "      <td>0.363478</td>\n",
       "      <td>0.353739</td>\n",
       "      <td>0.696087</td>\n",
       "      <td>0.248539</td>\n",
       "      <td>131</td>\n",
       "      <td>670</td>\n",
       "      <td>801</td>\n",
       "    </tr>\n",
       "    <tr>\n",
       "      <th>2</th>\n",
       "      <td>3</td>\n",
       "      <td>2011-01-03</td>\n",
       "      <td>1</td>\n",
       "      <td>0</td>\n",
       "      <td>1</td>\n",
       "      <td>0</td>\n",
       "      <td>1</td>\n",
       "      <td>1</td>\n",
       "      <td>1</td>\n",
       "      <td>0.196364</td>\n",
       "      <td>0.189405</td>\n",
       "      <td>0.437273</td>\n",
       "      <td>0.248309</td>\n",
       "      <td>120</td>\n",
       "      <td>1229</td>\n",
       "      <td>1349</td>\n",
       "    </tr>\n",
       "    <tr>\n",
       "      <th>3</th>\n",
       "      <td>4</td>\n",
       "      <td>2011-01-04</td>\n",
       "      <td>1</td>\n",
       "      <td>0</td>\n",
       "      <td>1</td>\n",
       "      <td>0</td>\n",
       "      <td>2</td>\n",
       "      <td>1</td>\n",
       "      <td>1</td>\n",
       "      <td>0.200000</td>\n",
       "      <td>0.212122</td>\n",
       "      <td>0.590435</td>\n",
       "      <td>0.160296</td>\n",
       "      <td>108</td>\n",
       "      <td>1454</td>\n",
       "      <td>1562</td>\n",
       "    </tr>\n",
       "    <tr>\n",
       "      <th>4</th>\n",
       "      <td>5</td>\n",
       "      <td>2011-01-05</td>\n",
       "      <td>1</td>\n",
       "      <td>0</td>\n",
       "      <td>1</td>\n",
       "      <td>0</td>\n",
       "      <td>3</td>\n",
       "      <td>1</td>\n",
       "      <td>1</td>\n",
       "      <td>0.226957</td>\n",
       "      <td>0.229270</td>\n",
       "      <td>0.436957</td>\n",
       "      <td>0.186900</td>\n",
       "      <td>82</td>\n",
       "      <td>1518</td>\n",
       "      <td>1600</td>\n",
       "    </tr>\n",
       "    <tr>\n",
       "      <th>...</th>\n",
       "      <td>...</td>\n",
       "      <td>...</td>\n",
       "      <td>...</td>\n",
       "      <td>...</td>\n",
       "      <td>...</td>\n",
       "      <td>...</td>\n",
       "      <td>...</td>\n",
       "      <td>...</td>\n",
       "      <td>...</td>\n",
       "      <td>...</td>\n",
       "      <td>...</td>\n",
       "      <td>...</td>\n",
       "      <td>...</td>\n",
       "      <td>...</td>\n",
       "      <td>...</td>\n",
       "      <td>...</td>\n",
       "    </tr>\n",
       "    <tr>\n",
       "      <th>726</th>\n",
       "      <td>727</td>\n",
       "      <td>2012-12-27</td>\n",
       "      <td>1</td>\n",
       "      <td>1</td>\n",
       "      <td>12</td>\n",
       "      <td>0</td>\n",
       "      <td>4</td>\n",
       "      <td>1</td>\n",
       "      <td>2</td>\n",
       "      <td>0.254167</td>\n",
       "      <td>0.226642</td>\n",
       "      <td>0.652917</td>\n",
       "      <td>0.350133</td>\n",
       "      <td>247</td>\n",
       "      <td>1867</td>\n",
       "      <td>2114</td>\n",
       "    </tr>\n",
       "    <tr>\n",
       "      <th>727</th>\n",
       "      <td>728</td>\n",
       "      <td>2012-12-28</td>\n",
       "      <td>1</td>\n",
       "      <td>1</td>\n",
       "      <td>12</td>\n",
       "      <td>0</td>\n",
       "      <td>5</td>\n",
       "      <td>1</td>\n",
       "      <td>2</td>\n",
       "      <td>0.253333</td>\n",
       "      <td>0.255046</td>\n",
       "      <td>0.590000</td>\n",
       "      <td>0.155471</td>\n",
       "      <td>644</td>\n",
       "      <td>2451</td>\n",
       "      <td>3095</td>\n",
       "    </tr>\n",
       "    <tr>\n",
       "      <th>728</th>\n",
       "      <td>729</td>\n",
       "      <td>2012-12-29</td>\n",
       "      <td>1</td>\n",
       "      <td>1</td>\n",
       "      <td>12</td>\n",
       "      <td>0</td>\n",
       "      <td>6</td>\n",
       "      <td>0</td>\n",
       "      <td>2</td>\n",
       "      <td>0.253333</td>\n",
       "      <td>0.242400</td>\n",
       "      <td>0.752917</td>\n",
       "      <td>0.124383</td>\n",
       "      <td>159</td>\n",
       "      <td>1182</td>\n",
       "      <td>1341</td>\n",
       "    </tr>\n",
       "    <tr>\n",
       "      <th>729</th>\n",
       "      <td>730</td>\n",
       "      <td>2012-12-30</td>\n",
       "      <td>1</td>\n",
       "      <td>1</td>\n",
       "      <td>12</td>\n",
       "      <td>0</td>\n",
       "      <td>0</td>\n",
       "      <td>0</td>\n",
       "      <td>1</td>\n",
       "      <td>0.255833</td>\n",
       "      <td>0.231700</td>\n",
       "      <td>0.483333</td>\n",
       "      <td>0.350754</td>\n",
       "      <td>364</td>\n",
       "      <td>1432</td>\n",
       "      <td>1796</td>\n",
       "    </tr>\n",
       "    <tr>\n",
       "      <th>730</th>\n",
       "      <td>731</td>\n",
       "      <td>2012-12-31</td>\n",
       "      <td>1</td>\n",
       "      <td>1</td>\n",
       "      <td>12</td>\n",
       "      <td>0</td>\n",
       "      <td>1</td>\n",
       "      <td>1</td>\n",
       "      <td>2</td>\n",
       "      <td>0.215833</td>\n",
       "      <td>0.223487</td>\n",
       "      <td>0.577500</td>\n",
       "      <td>0.154846</td>\n",
       "      <td>439</td>\n",
       "      <td>2290</td>\n",
       "      <td>2729</td>\n",
       "    </tr>\n",
       "  </tbody>\n",
       "</table>\n",
       "<p>731 rows × 16 columns</p>\n",
       "</div>"
      ],
      "text/plain": [
       "     instant      dteday  season  yr  mnth  holiday  weekday  workingday  \\\n",
       "0          1  2011-01-01       1   0     1        0        6           0   \n",
       "1          2  2011-01-02       1   0     1        0        0           0   \n",
       "2          3  2011-01-03       1   0     1        0        1           1   \n",
       "3          4  2011-01-04       1   0     1        0        2           1   \n",
       "4          5  2011-01-05       1   0     1        0        3           1   \n",
       "..       ...         ...     ...  ..   ...      ...      ...         ...   \n",
       "726      727  2012-12-27       1   1    12        0        4           1   \n",
       "727      728  2012-12-28       1   1    12        0        5           1   \n",
       "728      729  2012-12-29       1   1    12        0        6           0   \n",
       "729      730  2012-12-30       1   1    12        0        0           0   \n",
       "730      731  2012-12-31       1   1    12        0        1           1   \n",
       "\n",
       "     weathersit      temp     atemp       hum  windspeed  casual  registered  \\\n",
       "0             2  0.344167  0.363625  0.805833   0.160446     331         654   \n",
       "1             2  0.363478  0.353739  0.696087   0.248539     131         670   \n",
       "2             1  0.196364  0.189405  0.437273   0.248309     120        1229   \n",
       "3             1  0.200000  0.212122  0.590435   0.160296     108        1454   \n",
       "4             1  0.226957  0.229270  0.436957   0.186900      82        1518   \n",
       "..          ...       ...       ...       ...        ...     ...         ...   \n",
       "726           2  0.254167  0.226642  0.652917   0.350133     247        1867   \n",
       "727           2  0.253333  0.255046  0.590000   0.155471     644        2451   \n",
       "728           2  0.253333  0.242400  0.752917   0.124383     159        1182   \n",
       "729           1  0.255833  0.231700  0.483333   0.350754     364        1432   \n",
       "730           2  0.215833  0.223487  0.577500   0.154846     439        2290   \n",
       "\n",
       "      cnt  \n",
       "0     985  \n",
       "1     801  \n",
       "2    1349  \n",
       "3    1562  \n",
       "4    1600  \n",
       "..    ...  \n",
       "726  2114  \n",
       "727  3095  \n",
       "728  1341  \n",
       "729  1796  \n",
       "730  2729  \n",
       "\n",
       "[731 rows x 16 columns]"
      ]
     },
     "execution_count": 1,
     "metadata": {},
     "output_type": "execute_result"
    }
   ],
   "source": [
    "import pandas as pd\n",
    "\n",
    "#Read the dataset\n",
    "df = pd.read_csv('day.csv')\n",
    "\n",
    "#View the dataframe\n",
    "df"
   ]
  },
  {
   "cell_type": "markdown",
   "id": "9614a127",
   "metadata": {
    "id": "9614a127"
   },
   "source": [
    "<font size = 5> Data Characteristics"
   ]
  },
  {
   "attachments": {},
   "cell_type": "markdown",
   "id": "67e10fc4",
   "metadata": {
    "id": "67e10fc4"
   },
   "source": [
    "We will be using these features:\n",
    "\n",
    "- instant: record index\n",
    "- dteday : date\n",
    "- season : season (1:springer, 2:summer, 3:fall, 4:winter)\n",
    "- yr : year (0: 2011, 1:2012)\n",
    "- mnth : month ( 1 to 12)\n",
    "- holiday : weather day is holiday or not\n",
    "- weekday : day of the week\n",
    "- workingday : if day is neither weekend nor holiday is 1, otherwise is 0.\n",
    "- weathersit :\n",
    "\t- 1: Clear, Few clouds, Partly cloudy, Partly cloudy\n",
    "\t- 2: Mist + Cloudy, Mist + Broken clouds, Mist + Few clouds, Mist\n",
    "\t- 3: Light Snow, Light Rain + Thunderstorm + Scattered clouds, Light Rain + Scattered clouds\n",
    "\t- 4: Heavy Rain + Ice Pallets + Thunderstorm + Mist, Snow + Fog\n",
    "- temp : Normalized temperature in Celsius. The values are divided to 41 (max)\n",
    "- atemp: Normalized feeling temperature in Celsius. The values are divided to 50 (max)\n",
    "- hum: Normalized humidity. The values are divided to 100 (max)\n",
    "- windspeed: Normalized wind speed. The values are divided to 67 (max)\n",
    "- casual: count of casual users\n",
    "- registered: count of registered users\n",
    "- cnt: count of total rental bikes including both casual and registered\n",
    "\n",
    "\n",
    "Target: Predication of daily bike rental count based on the environmental and seasonal settings.\n",
    "\"cnt\" column is our target. cnt = casual + registered\n"
   ]
  },
  {
   "cell_type": "code",
   "execution_count": 2,
   "id": "5EHTY3kNfaeB",
   "metadata": {
    "id": "5EHTY3kNfaeB"
   },
   "outputs": [],
   "source": [
    "df['temp'] = df['temp']*41\n",
    "df['atemp'] = df['atemp']*50\n",
    "df['hum'] = df['hum']*100\n",
    "df['windspeed'] = df['windspeed']*67"
   ]
  },
  {
   "cell_type": "markdown",
   "id": "ZAE_X54tuTuu",
   "metadata": {
    "id": "ZAE_X54tuTuu"
   },
   "source": [
    "'temp', 'atemp', 'hum' and 'windspeed' columns were already scaled. Above line, I unscaled them because I am going to scale them using the TensorFlow Scaler, so I removed the normalization for these variables."
   ]
  },
  {
   "cell_type": "code",
   "execution_count": 3,
   "id": "2713b3f7",
   "metadata": {
    "colab": {
     "base_uri": "https://localhost:8080/"
    },
    "id": "2713b3f7",
    "outputId": "520f7c11-8d91-4daa-8021-b25c38ac54f8",
    "scrolled": true
   },
   "outputs": [
    {
     "data": {
      "text/plain": [
       "instant         int64\n",
       "dteday         object\n",
       "season          int64\n",
       "yr              int64\n",
       "mnth            int64\n",
       "holiday         int64\n",
       "weekday         int64\n",
       "workingday      int64\n",
       "weathersit      int64\n",
       "temp          float64\n",
       "atemp         float64\n",
       "hum           float64\n",
       "windspeed     float64\n",
       "casual          int64\n",
       "registered      int64\n",
       "cnt             int64\n",
       "dtype: object"
      ]
     },
     "execution_count": 3,
     "metadata": {},
     "output_type": "execute_result"
    }
   ],
   "source": [
    "df.dtypes"
   ]
  },
  {
   "cell_type": "code",
   "execution_count": 4,
   "id": "e560a3b5",
   "metadata": {
    "colab": {
     "base_uri": "https://localhost:8080/"
    },
    "id": "e560a3b5",
    "outputId": "21a92c00-0342-4f6d-8e49-4f6be214bff0",
    "scrolled": true
   },
   "outputs": [
    {
     "data": {
      "text/plain": [
       "instant       0\n",
       "dteday        0\n",
       "season        0\n",
       "yr            0\n",
       "mnth          0\n",
       "holiday       0\n",
       "weekday       0\n",
       "workingday    0\n",
       "weathersit    0\n",
       "temp          0\n",
       "atemp         0\n",
       "hum           0\n",
       "windspeed     0\n",
       "casual        0\n",
       "registered    0\n",
       "cnt           0\n",
       "dtype: int64"
      ]
     },
     "execution_count": 4,
     "metadata": {},
     "output_type": "execute_result"
    }
   ],
   "source": [
    "#Checking if there is any missing value.\n",
    "df.isna().sum()\n",
    "#There is no missing value."
   ]
  },
  {
   "cell_type": "code",
   "execution_count": 5,
   "id": "0eb24e43",
   "metadata": {
    "colab": {
     "base_uri": "https://localhost:8080/",
     "height": 364
    },
    "id": "0eb24e43",
    "outputId": "b32ba543-70d1-46cb-c8a9-8a1dfd68ca89"
   },
   "outputs": [
    {
     "data": {
      "text/html": [
       "<div>\n",
       "<style scoped>\n",
       "    .dataframe tbody tr th:only-of-type {\n",
       "        vertical-align: middle;\n",
       "    }\n",
       "\n",
       "    .dataframe tbody tr th {\n",
       "        vertical-align: top;\n",
       "    }\n",
       "\n",
       "    .dataframe thead th {\n",
       "        text-align: right;\n",
       "    }\n",
       "</style>\n",
       "<table border=\"1\" class=\"dataframe\">\n",
       "  <thead>\n",
       "    <tr style=\"text-align: right;\">\n",
       "      <th></th>\n",
       "      <th>instant</th>\n",
       "      <th>season</th>\n",
       "      <th>yr</th>\n",
       "      <th>mnth</th>\n",
       "      <th>holiday</th>\n",
       "      <th>weekday</th>\n",
       "      <th>workingday</th>\n",
       "      <th>weathersit</th>\n",
       "      <th>temp</th>\n",
       "      <th>atemp</th>\n",
       "      <th>hum</th>\n",
       "      <th>windspeed</th>\n",
       "      <th>casual</th>\n",
       "      <th>registered</th>\n",
       "      <th>cnt</th>\n",
       "    </tr>\n",
       "  </thead>\n",
       "  <tbody>\n",
       "    <tr>\n",
       "      <th>count</th>\n",
       "      <td>731.000000</td>\n",
       "      <td>731.000000</td>\n",
       "      <td>731.000000</td>\n",
       "      <td>731.000000</td>\n",
       "      <td>731.000000</td>\n",
       "      <td>731.000000</td>\n",
       "      <td>731.000000</td>\n",
       "      <td>731.000000</td>\n",
       "      <td>731.000000</td>\n",
       "      <td>731.000000</td>\n",
       "      <td>731.000000</td>\n",
       "      <td>731.000000</td>\n",
       "      <td>731.000000</td>\n",
       "      <td>731.000000</td>\n",
       "      <td>731.000000</td>\n",
       "    </tr>\n",
       "    <tr>\n",
       "      <th>mean</th>\n",
       "      <td>366.000000</td>\n",
       "      <td>2.496580</td>\n",
       "      <td>0.500684</td>\n",
       "      <td>6.519836</td>\n",
       "      <td>0.028728</td>\n",
       "      <td>2.997264</td>\n",
       "      <td>0.683995</td>\n",
       "      <td>1.395349</td>\n",
       "      <td>20.310776</td>\n",
       "      <td>23.717699</td>\n",
       "      <td>62.789406</td>\n",
       "      <td>12.762576</td>\n",
       "      <td>848.176471</td>\n",
       "      <td>3656.172367</td>\n",
       "      <td>4504.348837</td>\n",
       "    </tr>\n",
       "    <tr>\n",
       "      <th>std</th>\n",
       "      <td>211.165812</td>\n",
       "      <td>1.110807</td>\n",
       "      <td>0.500342</td>\n",
       "      <td>3.451913</td>\n",
       "      <td>0.167155</td>\n",
       "      <td>2.004787</td>\n",
       "      <td>0.465233</td>\n",
       "      <td>0.544894</td>\n",
       "      <td>7.505091</td>\n",
       "      <td>8.148059</td>\n",
       "      <td>14.242910</td>\n",
       "      <td>5.192357</td>\n",
       "      <td>686.622488</td>\n",
       "      <td>1560.256377</td>\n",
       "      <td>1937.211452</td>\n",
       "    </tr>\n",
       "    <tr>\n",
       "      <th>min</th>\n",
       "      <td>1.000000</td>\n",
       "      <td>1.000000</td>\n",
       "      <td>0.000000</td>\n",
       "      <td>1.000000</td>\n",
       "      <td>0.000000</td>\n",
       "      <td>0.000000</td>\n",
       "      <td>0.000000</td>\n",
       "      <td>1.000000</td>\n",
       "      <td>2.424346</td>\n",
       "      <td>3.953480</td>\n",
       "      <td>0.000000</td>\n",
       "      <td>1.500244</td>\n",
       "      <td>2.000000</td>\n",
       "      <td>20.000000</td>\n",
       "      <td>22.000000</td>\n",
       "    </tr>\n",
       "    <tr>\n",
       "      <th>25%</th>\n",
       "      <td>183.500000</td>\n",
       "      <td>2.000000</td>\n",
       "      <td>0.000000</td>\n",
       "      <td>4.000000</td>\n",
       "      <td>0.000000</td>\n",
       "      <td>1.000000</td>\n",
       "      <td>0.000000</td>\n",
       "      <td>1.000000</td>\n",
       "      <td>13.820424</td>\n",
       "      <td>16.892125</td>\n",
       "      <td>52.000000</td>\n",
       "      <td>9.041650</td>\n",
       "      <td>315.500000</td>\n",
       "      <td>2497.000000</td>\n",
       "      <td>3152.000000</td>\n",
       "    </tr>\n",
       "    <tr>\n",
       "      <th>50%</th>\n",
       "      <td>366.000000</td>\n",
       "      <td>3.000000</td>\n",
       "      <td>1.000000</td>\n",
       "      <td>7.000000</td>\n",
       "      <td>0.000000</td>\n",
       "      <td>3.000000</td>\n",
       "      <td>1.000000</td>\n",
       "      <td>1.000000</td>\n",
       "      <td>20.431653</td>\n",
       "      <td>24.336650</td>\n",
       "      <td>62.666700</td>\n",
       "      <td>12.125325</td>\n",
       "      <td>713.000000</td>\n",
       "      <td>3662.000000</td>\n",
       "      <td>4548.000000</td>\n",
       "    </tr>\n",
       "    <tr>\n",
       "      <th>75%</th>\n",
       "      <td>548.500000</td>\n",
       "      <td>3.000000</td>\n",
       "      <td>1.000000</td>\n",
       "      <td>10.000000</td>\n",
       "      <td>0.000000</td>\n",
       "      <td>5.000000</td>\n",
       "      <td>1.000000</td>\n",
       "      <td>2.000000</td>\n",
       "      <td>26.872076</td>\n",
       "      <td>30.430100</td>\n",
       "      <td>73.020850</td>\n",
       "      <td>15.625371</td>\n",
       "      <td>1096.000000</td>\n",
       "      <td>4776.500000</td>\n",
       "      <td>5956.000000</td>\n",
       "    </tr>\n",
       "    <tr>\n",
       "      <th>max</th>\n",
       "      <td>731.000000</td>\n",
       "      <td>4.000000</td>\n",
       "      <td>1.000000</td>\n",
       "      <td>12.000000</td>\n",
       "      <td>1.000000</td>\n",
       "      <td>6.000000</td>\n",
       "      <td>1.000000</td>\n",
       "      <td>3.000000</td>\n",
       "      <td>35.328347</td>\n",
       "      <td>42.044800</td>\n",
       "      <td>97.250000</td>\n",
       "      <td>34.000021</td>\n",
       "      <td>3410.000000</td>\n",
       "      <td>6946.000000</td>\n",
       "      <td>8714.000000</td>\n",
       "    </tr>\n",
       "  </tbody>\n",
       "</table>\n",
       "</div>"
      ],
      "text/plain": [
       "          instant      season          yr        mnth     holiday     weekday  \\\n",
       "count  731.000000  731.000000  731.000000  731.000000  731.000000  731.000000   \n",
       "mean   366.000000    2.496580    0.500684    6.519836    0.028728    2.997264   \n",
       "std    211.165812    1.110807    0.500342    3.451913    0.167155    2.004787   \n",
       "min      1.000000    1.000000    0.000000    1.000000    0.000000    0.000000   \n",
       "25%    183.500000    2.000000    0.000000    4.000000    0.000000    1.000000   \n",
       "50%    366.000000    3.000000    1.000000    7.000000    0.000000    3.000000   \n",
       "75%    548.500000    3.000000    1.000000   10.000000    0.000000    5.000000   \n",
       "max    731.000000    4.000000    1.000000   12.000000    1.000000    6.000000   \n",
       "\n",
       "       workingday  weathersit        temp       atemp         hum   windspeed  \\\n",
       "count  731.000000  731.000000  731.000000  731.000000  731.000000  731.000000   \n",
       "mean     0.683995    1.395349   20.310776   23.717699   62.789406   12.762576   \n",
       "std      0.465233    0.544894    7.505091    8.148059   14.242910    5.192357   \n",
       "min      0.000000    1.000000    2.424346    3.953480    0.000000    1.500244   \n",
       "25%      0.000000    1.000000   13.820424   16.892125   52.000000    9.041650   \n",
       "50%      1.000000    1.000000   20.431653   24.336650   62.666700   12.125325   \n",
       "75%      1.000000    2.000000   26.872076   30.430100   73.020850   15.625371   \n",
       "max      1.000000    3.000000   35.328347   42.044800   97.250000   34.000021   \n",
       "\n",
       "            casual   registered          cnt  \n",
       "count   731.000000   731.000000   731.000000  \n",
       "mean    848.176471  3656.172367  4504.348837  \n",
       "std     686.622488  1560.256377  1937.211452  \n",
       "min       2.000000    20.000000    22.000000  \n",
       "25%     315.500000  2497.000000  3152.000000  \n",
       "50%     713.000000  3662.000000  4548.000000  \n",
       "75%    1096.000000  4776.500000  5956.000000  \n",
       "max    3410.000000  6946.000000  8714.000000  "
      ]
     },
     "execution_count": 5,
     "metadata": {},
     "output_type": "execute_result"
    }
   ],
   "source": [
    "df.describe()"
   ]
  },
  {
   "cell_type": "markdown",
   "id": "ab7997ad",
   "metadata": {
    "id": "ab7997ad"
   },
   "source": [
    "All of these variables have different scales for all the variables.\n",
    "\n",
    "Also, some of the variables are intended to be categorical, not numerical. For example,\n",
    "<br>Season is 1:springer, 2:summer, 3:fall, 4:winter\n",
    "<br>Year  is 0:2011, 1:2012\n",
    "<br>Refer to \"Data Characteristics\"."
   ]
  },
  {
   "cell_type": "markdown",
   "id": "b5b3841a",
   "metadata": {
    "id": "b5b3841a"
   },
   "source": [
    "<font size = 4> Define X and y"
   ]
  },
  {
   "cell_type": "code",
   "execution_count": 6,
   "id": "6998f07e",
   "metadata": {
    "colab": {
     "base_uri": "https://localhost:8080/",
     "height": 424
    },
    "id": "6998f07e",
    "outputId": "04db5b30-c86b-4328-fa6c-470b0c1055cd"
   },
   "outputs": [
    {
     "data": {
      "text/html": [
       "<div>\n",
       "<style scoped>\n",
       "    .dataframe tbody tr th:only-of-type {\n",
       "        vertical-align: middle;\n",
       "    }\n",
       "\n",
       "    .dataframe tbody tr th {\n",
       "        vertical-align: top;\n",
       "    }\n",
       "\n",
       "    .dataframe thead th {\n",
       "        text-align: right;\n",
       "    }\n",
       "</style>\n",
       "<table border=\"1\" class=\"dataframe\">\n",
       "  <thead>\n",
       "    <tr style=\"text-align: right;\">\n",
       "      <th></th>\n",
       "      <th>season</th>\n",
       "      <th>yr</th>\n",
       "      <th>mnth</th>\n",
       "      <th>holiday</th>\n",
       "      <th>weekday</th>\n",
       "      <th>workingday</th>\n",
       "      <th>weathersit</th>\n",
       "      <th>temp</th>\n",
       "      <th>atemp</th>\n",
       "      <th>hum</th>\n",
       "      <th>windspeed</th>\n",
       "    </tr>\n",
       "  </thead>\n",
       "  <tbody>\n",
       "    <tr>\n",
       "      <th>0</th>\n",
       "      <td>1</td>\n",
       "      <td>0</td>\n",
       "      <td>1</td>\n",
       "      <td>0</td>\n",
       "      <td>6</td>\n",
       "      <td>0</td>\n",
       "      <td>2</td>\n",
       "      <td>14.110847</td>\n",
       "      <td>18.18125</td>\n",
       "      <td>80.5833</td>\n",
       "      <td>10.749882</td>\n",
       "    </tr>\n",
       "    <tr>\n",
       "      <th>1</th>\n",
       "      <td>1</td>\n",
       "      <td>0</td>\n",
       "      <td>1</td>\n",
       "      <td>0</td>\n",
       "      <td>0</td>\n",
       "      <td>0</td>\n",
       "      <td>2</td>\n",
       "      <td>14.902598</td>\n",
       "      <td>17.68695</td>\n",
       "      <td>69.6087</td>\n",
       "      <td>16.652113</td>\n",
       "    </tr>\n",
       "    <tr>\n",
       "      <th>2</th>\n",
       "      <td>1</td>\n",
       "      <td>0</td>\n",
       "      <td>1</td>\n",
       "      <td>0</td>\n",
       "      <td>1</td>\n",
       "      <td>1</td>\n",
       "      <td>1</td>\n",
       "      <td>8.050924</td>\n",
       "      <td>9.47025</td>\n",
       "      <td>43.7273</td>\n",
       "      <td>16.636703</td>\n",
       "    </tr>\n",
       "    <tr>\n",
       "      <th>3</th>\n",
       "      <td>1</td>\n",
       "      <td>0</td>\n",
       "      <td>1</td>\n",
       "      <td>0</td>\n",
       "      <td>2</td>\n",
       "      <td>1</td>\n",
       "      <td>1</td>\n",
       "      <td>8.200000</td>\n",
       "      <td>10.60610</td>\n",
       "      <td>59.0435</td>\n",
       "      <td>10.739832</td>\n",
       "    </tr>\n",
       "    <tr>\n",
       "      <th>4</th>\n",
       "      <td>1</td>\n",
       "      <td>0</td>\n",
       "      <td>1</td>\n",
       "      <td>0</td>\n",
       "      <td>3</td>\n",
       "      <td>1</td>\n",
       "      <td>1</td>\n",
       "      <td>9.305237</td>\n",
       "      <td>11.46350</td>\n",
       "      <td>43.6957</td>\n",
       "      <td>12.522300</td>\n",
       "    </tr>\n",
       "    <tr>\n",
       "      <th>...</th>\n",
       "      <td>...</td>\n",
       "      <td>...</td>\n",
       "      <td>...</td>\n",
       "      <td>...</td>\n",
       "      <td>...</td>\n",
       "      <td>...</td>\n",
       "      <td>...</td>\n",
       "      <td>...</td>\n",
       "      <td>...</td>\n",
       "      <td>...</td>\n",
       "      <td>...</td>\n",
       "    </tr>\n",
       "    <tr>\n",
       "      <th>726</th>\n",
       "      <td>1</td>\n",
       "      <td>1</td>\n",
       "      <td>12</td>\n",
       "      <td>0</td>\n",
       "      <td>4</td>\n",
       "      <td>1</td>\n",
       "      <td>2</td>\n",
       "      <td>10.420847</td>\n",
       "      <td>11.33210</td>\n",
       "      <td>65.2917</td>\n",
       "      <td>23.458911</td>\n",
       "    </tr>\n",
       "    <tr>\n",
       "      <th>727</th>\n",
       "      <td>1</td>\n",
       "      <td>1</td>\n",
       "      <td>12</td>\n",
       "      <td>0</td>\n",
       "      <td>5</td>\n",
       "      <td>1</td>\n",
       "      <td>2</td>\n",
       "      <td>10.386653</td>\n",
       "      <td>12.75230</td>\n",
       "      <td>59.0000</td>\n",
       "      <td>10.416557</td>\n",
       "    </tr>\n",
       "    <tr>\n",
       "      <th>728</th>\n",
       "      <td>1</td>\n",
       "      <td>1</td>\n",
       "      <td>12</td>\n",
       "      <td>0</td>\n",
       "      <td>6</td>\n",
       "      <td>0</td>\n",
       "      <td>2</td>\n",
       "      <td>10.386653</td>\n",
       "      <td>12.12000</td>\n",
       "      <td>75.2917</td>\n",
       "      <td>8.333661</td>\n",
       "    </tr>\n",
       "    <tr>\n",
       "      <th>729</th>\n",
       "      <td>1</td>\n",
       "      <td>1</td>\n",
       "      <td>12</td>\n",
       "      <td>0</td>\n",
       "      <td>0</td>\n",
       "      <td>0</td>\n",
       "      <td>1</td>\n",
       "      <td>10.489153</td>\n",
       "      <td>11.58500</td>\n",
       "      <td>48.3333</td>\n",
       "      <td>23.500518</td>\n",
       "    </tr>\n",
       "    <tr>\n",
       "      <th>730</th>\n",
       "      <td>1</td>\n",
       "      <td>1</td>\n",
       "      <td>12</td>\n",
       "      <td>0</td>\n",
       "      <td>1</td>\n",
       "      <td>1</td>\n",
       "      <td>2</td>\n",
       "      <td>8.849153</td>\n",
       "      <td>11.17435</td>\n",
       "      <td>57.7500</td>\n",
       "      <td>10.374682</td>\n",
       "    </tr>\n",
       "  </tbody>\n",
       "</table>\n",
       "<p>731 rows × 11 columns</p>\n",
       "</div>"
      ],
      "text/plain": [
       "     season  yr  mnth  holiday  weekday  workingday  weathersit       temp  \\\n",
       "0         1   0     1        0        6           0           2  14.110847   \n",
       "1         1   0     1        0        0           0           2  14.902598   \n",
       "2         1   0     1        0        1           1           1   8.050924   \n",
       "3         1   0     1        0        2           1           1   8.200000   \n",
       "4         1   0     1        0        3           1           1   9.305237   \n",
       "..      ...  ..   ...      ...      ...         ...         ...        ...   \n",
       "726       1   1    12        0        4           1           2  10.420847   \n",
       "727       1   1    12        0        5           1           2  10.386653   \n",
       "728       1   1    12        0        6           0           2  10.386653   \n",
       "729       1   1    12        0        0           0           1  10.489153   \n",
       "730       1   1    12        0        1           1           2   8.849153   \n",
       "\n",
       "        atemp      hum  windspeed  \n",
       "0    18.18125  80.5833  10.749882  \n",
       "1    17.68695  69.6087  16.652113  \n",
       "2     9.47025  43.7273  16.636703  \n",
       "3    10.60610  59.0435  10.739832  \n",
       "4    11.46350  43.6957  12.522300  \n",
       "..        ...      ...        ...  \n",
       "726  11.33210  65.2917  23.458911  \n",
       "727  12.75230  59.0000  10.416557  \n",
       "728  12.12000  75.2917   8.333661  \n",
       "729  11.58500  48.3333  23.500518  \n",
       "730  11.17435  57.7500  10.374682  \n",
       "\n",
       "[731 rows x 11 columns]"
      ]
     },
     "execution_count": 6,
     "metadata": {},
     "output_type": "execute_result"
    }
   ],
   "source": [
    "y = df['cnt']                        #y is the target.\n",
    "X = df[df.columns.drop('cnt')]       #Removing the target for X.\n",
    "\n",
    "X = X.drop(columns= ['dteday', 'casual', 'registered', 'instant'])\n",
    "\n",
    "X"
   ]
  },
  {
   "cell_type": "markdown",
   "id": "L6nsApSDhGzN",
   "metadata": {
    "id": "L6nsApSDhGzN"
   },
   "source": [
    "I dropped these:\n",
    "\n",
    "'cnt', 'casual', 'registered' because they are my target variables. cnt = casual + registered\n",
    "<br>'dteday' because of the date object. I am going to use XGBoost, it is a numeric algorithm.<br>'instant' because it is just an index. It doesn't affect my predicted variable."
   ]
  },
  {
   "cell_type": "markdown",
   "id": "1dd18213",
   "metadata": {
    "id": "1dd18213"
   },
   "source": [
    "<font size = 5> Data Visualizations"
   ]
  },
  {
   "cell_type": "code",
   "execution_count": 7,
   "id": "2557f470",
   "metadata": {
    "id": "2557f470"
   },
   "outputs": [],
   "source": [
    "import numpy as np\n",
    "import matplotlib.pyplot as plt"
   ]
  },
  {
   "cell_type": "markdown",
   "id": "5c9bb613",
   "metadata": {
    "id": "5c9bb613"
   },
   "source": [
    "<font size = 4> Scatter Plot of Windspeed & Count"
   ]
  },
  {
   "cell_type": "code",
   "execution_count": 8,
   "id": "a4538651",
   "metadata": {
    "colab": {
     "base_uri": "https://localhost:8080/",
     "height": 472
    },
    "id": "a4538651",
    "outputId": "9fbb860d-c07b-4f4b-f8a3-b06a4a7a54d3"
   },
   "outputs": [
    {
     "data": {
      "image/png": "[encoded data removed]",
      "text/plain": [
       "<Figure size 640x480 with 1 Axes>"
      ]
     },
     "metadata": {},
     "output_type": "display_data"
    }
   ],
   "source": [
    "y = df['cnt']\n",
    "x = df['windspeed']\n",
    "\n",
    "plt.scatter(x,y)\n",
    "plt.xlabel('Windspeed')\n",
    "plt.ylabel('Count')\n",
    "\n",
    "plt.title('Scatter Plot of Windspeed & Count')\n",
    "\n",
    "#Regression Line\n",
    "s, l = np.polyfit(x, y, 1)\n",
    "\n",
    "plt.plot(x, s*x+l, color = 'orange')\n",
    "\n",
    "plt.show()"
   ]
  },
  {
   "cell_type": "markdown",
   "id": "096612ba",
   "metadata": {
    "id": "096612ba"
   },
   "source": [
    "In this plot, there is no any clear relationship between count and windspeed."
   ]
  },
  {
   "cell_type": "markdown",
   "id": "cf8a0e9d",
   "metadata": {
    "id": "cf8a0e9d"
   },
   "source": [
    "<font size = 4> Scatter Plot of Temperature & Count"
   ]
  },
  {
   "cell_type": "code",
   "execution_count": 9,
   "id": "cc474a6f",
   "metadata": {
    "colab": {
     "base_uri": "https://localhost:8080/",
     "height": 472
    },
    "id": "cc474a6f",
    "outputId": "cb1ddb6c-5eb2-4760-9f41-58a47d127508"
   },
   "outputs": [
    {
     "data": {
      "image/png": "[encoded data removed]",
      "text/plain": [
       "<Figure size 640x480 with 1 Axes>"
      ]
     },
     "metadata": {},
     "output_type": "display_data"
    }
   ],
   "source": [
    "y = df['cnt']\n",
    "x = df['temp']\n",
    "\n",
    "plt.scatter(x,y)\n",
    "plt.xlabel('Temperature')\n",
    "plt.ylabel('Count')\n",
    "\n",
    "plt.title('Scatter Plot of Temperature & Count')\n",
    "\n",
    "#Regression line\n",
    "s, l = np.polyfit(x, y, 1)\n",
    "\n",
    "plt.plot(x, s*x+l, color = 'yellow')\n",
    "\n",
    "plt.show()"
   ]
  },
  {
   "cell_type": "markdown",
   "id": "VUZL5j5ewYoZ",
   "metadata": {
    "id": "VUZL5j5ewYoZ"
   },
   "source": [
    "In this plot, there is somewhat linear relationship between count and temperature."
   ]
  },
  {
   "cell_type": "markdown",
   "id": "cef0b797",
   "metadata": {
    "id": "cef0b797"
   },
   "source": [
    "<font size = 4> Histogram of Count"
   ]
  },
  {
   "cell_type": "code",
   "execution_count": 10,
   "id": "26055c96",
   "metadata": {
    "colab": {
     "base_uri": "https://localhost:8080/",
     "height": 472
    },
    "id": "26055c96",
    "outputId": "f29151a8-1698-4fce-884e-0bcbcb33cc1b"
   },
   "outputs": [
    {
     "data": {
      "image/png": "[encoded data removed]",
      "text/plain": [
       "<Figure size 640x480 with 1 Axes>"
      ]
     },
     "metadata": {},
     "output_type": "display_data"
    }
   ],
   "source": [
    "x = df['cnt']\n",
    "plt.hist(x)\n",
    "\n",
    "plt.xlabel('Count')\n",
    "plt.ylabel('Frequency')\n",
    "plt.title('Histogram of Count')\n",
    "\n",
    "plt.show()"
   ]
  },
  {
   "attachments": {},
   "cell_type": "markdown",
   "id": "426c139f",
   "metadata": {
    "id": "426c139f"
   },
   "source": [
    "This plot shows us that what the distribution of my target variable count is."
   ]
  },
  {
   "cell_type": "markdown",
   "id": "1caee3fa",
   "metadata": {
    "id": "1caee3fa"
   },
   "source": [
    "<font size = 4>Histogram of Casual & Registered"
   ]
  },
  {
   "cell_type": "code",
   "execution_count": 11,
   "id": "8abc3ca0",
   "metadata": {
    "colab": {
     "base_uri": "https://localhost:8080/",
     "height": 472
    },
    "id": "8abc3ca0",
    "outputId": "6abbafbe-114c-4c1e-d867-09773a46aeb1"
   },
   "outputs": [
    {
     "data": {
      "image/png": "[encoded data removed]",
      "text/plain": [
       "<Figure size 640x480 with 1 Axes>"
      ]
     },
     "metadata": {},
     "output_type": "display_data"
    }
   ],
   "source": [
    "x = df['casual']\n",
    "y = df['registered']\n",
    "plt.hist([x,y])\n",
    "\n",
    "plt.xlabel('Casual & Registered')\n",
    "plt.ylabel('Frequency')\n",
    "plt.title('Histogram of Casual & Registered')\n",
    "plt.legend(['Casual', 'Registered'])\n",
    "plt.show()"
   ]
  },
  {
   "cell_type": "markdown",
   "id": "3f3dfc79",
   "metadata": {
    "id": "3f3dfc79"
   },
   "source": [
    "In this plot, it shows us that if the value is higher than 3000, it is most likely to be registered. if the value is less than 3000, it is most likely casual."
   ]
  },
  {
   "cell_type": "markdown",
   "id": "39cf06a3",
   "metadata": {
    "id": "39cf06a3"
   },
   "source": [
    "<font size = 4> Histogram of Wind Speed"
   ]
  },
  {
   "cell_type": "code",
   "execution_count": 12,
   "id": "ed24fe44",
   "metadata": {
    "colab": {
     "base_uri": "https://localhost:8080/",
     "height": 472
    },
    "id": "ed24fe44",
    "outputId": "3f206468-8607-4e18-8115-ac9df0d565e2"
   },
   "outputs": [
    {
     "data": {
      "image/png": "[encoded data removed]",
      "text/plain": [
       "<Figure size 640x480 with 1 Axes>"
      ]
     },
     "metadata": {},
     "output_type": "display_data"
    }
   ],
   "source": [
    "x = df['windspeed']\n",
    "plt.hist(x)\n",
    "\n",
    "plt.xlabel('Windspeed')\n",
    "plt.ylabel('Frequency')\n",
    "plt.title('Histogram of Windspeed')\n",
    "\n",
    "plt.show()"
   ]
  },
  {
   "cell_type": "markdown",
   "id": "eb88cea9",
   "metadata": {
    "id": "eb88cea9"
   },
   "source": [
    "This histogram shows us the distrubution of windspeed variable. The distribituon similar to bell curve."
   ]
  },
  {
   "cell_type": "markdown",
   "id": "7217774f",
   "metadata": {
    "id": "7217774f"
   },
   "source": [
    "<font size = 4> Histogram of Humidity"
   ]
  },
  {
   "cell_type": "code",
   "execution_count": 13,
   "id": "34a27542",
   "metadata": {
    "colab": {
     "base_uri": "https://localhost:8080/",
     "height": 472
    },
    "id": "34a27542",
    "outputId": "25ce6b05-7822-45e4-ad04-06005eb86448"
   },
   "outputs": [
    {
     "data": {
      "image/png": "[encoded data removed]",
      "text/plain": [
       "<Figure size 640x480 with 1 Axes>"
      ]
     },
     "metadata": {},
     "output_type": "display_data"
    }
   ],
   "source": [
    "x = df['hum']\n",
    "plt.hist(x)\n",
    "\n",
    "plt.xlabel('Humidity')\n",
    "plt.ylabel('Frequency')\n",
    "plt.title('Histogram of Humidity')\n",
    "\n",
    "\n",
    "plt.show()"
   ]
  },
  {
   "attachments": {},
   "cell_type": "markdown",
   "id": "5b03hc4MysDu",
   "metadata": {
    "id": "5b03hc4MysDu"
   },
   "source": [
    "This histogram shows us the distribution of humidity variable. We can see that the mean is close to 60."
   ]
  },
  {
   "cell_type": "markdown",
   "id": "6de23692",
   "metadata": {
    "id": "6de23692"
   },
   "source": [
    "<font size = 4>Boxplot of Count"
   ]
  },
  {
   "cell_type": "code",
   "execution_count": 14,
   "id": "a86b4c5c",
   "metadata": {
    "colab": {
     "base_uri": "https://localhost:8080/",
     "height": 472
    },
    "id": "a86b4c5c",
    "outputId": "9c730e12-3a1f-4b8e-d425-ba9c083c862e"
   },
   "outputs": [
    {
     "data": {
      "image/png": "[encoded data removed]",
      "text/plain": [
       "<Figure size 640x480 with 1 Axes>"
      ]
     },
     "metadata": {},
     "output_type": "display_data"
    }
   ],
   "source": [
    "y = df['cnt']\n",
    "plt.boxplot(y)\n",
    "\n",
    "\n",
    "plt.xlabel('Count')\n",
    "plt.ylabel('Values')\n",
    "plt.title('Boxplot of Count')\n",
    "\n",
    "plt.show()"
   ]
  },
  {
   "cell_type": "markdown",
   "id": "a7fff787",
   "metadata": {
    "id": "a7fff787"
   },
   "source": [
    "This plot shows the range of the target value."
   ]
  },
  {
   "cell_type": "markdown",
   "id": "55afdc2c",
   "metadata": {},
   "source": [
    "<font size=4>Boxplot of Casual & Registered"
   ]
  },
  {
   "cell_type": "code",
   "execution_count": 15,
   "id": "a40f6093",
   "metadata": {
    "colab": {
     "base_uri": "https://localhost:8080/",
     "height": 472
    },
    "id": "a40f6093",
    "outputId": "7e369576-cc80-4a1d-ef62-f48142191acd",
    "scrolled": false
   },
   "outputs": [
    {
     "data": {
      "image/png": "[encoded data removed]",
      "text/plain": [
       "<Figure size 640x480 with 1 Axes>"
      ]
     },
     "metadata": {},
     "output_type": "display_data"
    }
   ],
   "source": [
    "x = df['casual']\n",
    "y = df['registered']\n",
    "plt.boxplot([x, y])\n",
    "\n",
    "\n",
    "plt.xlabel('1: Casual  2: Registered')\n",
    "plt.ylabel('Values')\n",
    "plt.title('Boxplot of Casual & Registered')\n",
    "\n",
    "plt.show()"
   ]
  },
  {
   "attachments": {},
   "cell_type": "markdown",
   "id": "60f35ec2",
   "metadata": {
    "id": "60f35ec2"
   },
   "source": [
    "Here, we can see the difference between 'Casual' and 'Registered'.\n",
    "\n",
    "'Casual' has outliers, which means the variance will be higher. Outliers are not close to the mean."
   ]
  },
  {
   "cell_type": "code",
   "execution_count": 16,
   "id": "eed80af5",
   "metadata": {
    "id": "eed80af5"
   },
   "outputs": [],
   "source": [
    "import sklearn.linear_model\n",
    "import sklearn.tree\n",
    "import sklearn.model_selection\n",
    "import sklearn.ensemble\n",
    "import sklearn.metrics"
   ]
  },
  {
   "cell_type": "markdown",
   "id": "41702664",
   "metadata": {
    "id": "41702664"
   },
   "source": [
    "<font size = 5> Split the Data"
   ]
  },
  {
   "cell_type": "code",
   "execution_count": 17,
   "id": "3dfca04f",
   "metadata": {
    "id": "3dfca04f"
   },
   "outputs": [],
   "source": [
    "x_train, x_test, y_train, y_test = sklearn.model_selection.train_test_split(X, y, test_size = 0.2, random_state=42)"
   ]
  },
  {
   "cell_type": "markdown",
   "id": "57875c5b",
   "metadata": {},
   "source": [
    "Here, I split the data, am going to use for all the algorithms below."
   ]
  },
  {
   "cell_type": "markdown",
   "id": "BlYDglI52535",
   "metadata": {
    "id": "BlYDglI52535"
   },
   "source": [
    "<font size = 5> Scaling"
   ]
  },
  {
   "cell_type": "markdown",
   "id": "70fdf200",
   "metadata": {
    "id": "70fdf200"
   },
   "source": [
    "<font size = 4>Min-Max Scaling (Normalization)"
   ]
  },
  {
   "cell_type": "code",
   "execution_count": 18,
   "id": "c91addfb",
   "metadata": {
    "colab": {
     "base_uri": "https://localhost:8080/"
    },
    "id": "c91addfb",
    "outputId": "6c4c5d14-e5cb-4ba4-c27b-bbbce80f6e65"
   },
   "outputs": [
    {
     "data": {
      "text/plain": [
       "array([[1.        , 1.        , 0.90909091, ..., 0.32048692, 0.68874494,\n",
       "        0.76258632],\n",
       "       [0.66666667, 0.        , 0.72727273, ..., 0.62519676, 0.97617143,\n",
       "        0.40641213],\n",
       "       [1.        , 0.        , 1.        , ..., 0.30392016, 0.63679688,\n",
       "        0.17508737],\n",
       "       ...,\n",
       "       [1.        , 0.        , 0.72727273, ..., 0.651183  , 0.88181818,\n",
       "        0.30115922],\n",
       "       [0.        , 1.        , 0.18181818, ..., 0.36832591, 0.49553974,\n",
       "        0.47759782],\n",
       "       [0.33333333, 0.        , 0.27272727, ..., 0.44395075, 0.8510826 ,\n",
       "        0.54446786]])"
      ]
     },
     "execution_count": 18,
     "metadata": {},
     "output_type": "execute_result"
    }
   ],
   "source": [
    "from sklearn.preprocessing import MinMaxScaler\n",
    "\n",
    "scaler = MinMaxScaler()\n",
    "x_train_minmax = scaler.fit_transform(x_train)   #We only fit with the training data.\n",
    "x_test_minmax = scaler.transform(x_test)         #We transform on the testing data.\n",
    "\n",
    "x_train_minmax"
   ]
  },
  {
   "cell_type": "markdown",
   "id": "j0rhRtn3p2kV",
   "metadata": {
    "id": "j0rhRtn3p2kV"
   },
   "source": [
    "I scaled the data after splitting because we only fit with the training data, and we transform on the testing data. Because if we do fit.transform data, including testing data, we are passing information about the test set to the training model."
   ]
  },
  {
   "cell_type": "markdown",
   "id": "9b5e1637",
   "metadata": {
    "id": "9b5e1637"
   },
   "source": [
    "<font size = 4>Standardization"
   ]
  },
  {
   "cell_type": "code",
   "execution_count": 19,
   "id": "90c234ab",
   "metadata": {
    "colab": {
     "base_uri": "https://localhost:8080/"
    },
    "id": "90c234ab",
    "outputId": "cc961ba7-b05d-4d4f-d67f-01f8c74ed866",
    "scrolled": true
   },
   "outputs": [
    {
     "data": {
      "text/plain": [
       "array([[ 1.3604059 ,  0.96632025,  1.32291424, ..., -0.96152487,\n",
       "         0.22342426,  1.9570449 ],\n",
       "       [ 0.45346863, -1.03485361,  0.73917271, ...,  0.47558055,\n",
       "         2.17101774,  0.0267188 ],\n",
       "       [ 1.3604059 , -1.03485361,  1.61478501, ..., -1.03965885,\n",
       "        -0.12857422, -1.22697175],\n",
       "       ...,\n",
       "       [ 1.3604059 , -1.03485361,  0.73917271, ...,  0.59813964,\n",
       "         1.53168291, -0.5437112 ],\n",
       "       [-1.3604059 ,  0.96632025, -1.01205189, ..., -0.7359015 ,\n",
       "        -1.08572847,  0.41251767],\n",
       "       [-0.45346863, -1.03485361, -0.72018112, ..., -0.37923147,\n",
       "         1.32341949,  0.77492736]])"
      ]
     },
     "execution_count": 19,
     "metadata": {},
     "output_type": "execute_result"
    }
   ],
   "source": [
    "from sklearn.preprocessing import StandardScaler\n",
    "\n",
    "scaler = StandardScaler()\n",
    "x_train_std = scaler.fit_transform(x_train)\n",
    "x_test_std = scaler.transform(x_test)\n",
    "\n",
    "x_train_std"
   ]
  },
  {
   "cell_type": "markdown",
   "id": "g37E98we2BTK",
   "metadata": {
    "id": "g37E98we2BTK"
   },
   "source": [
    "I added both 2 options for scaling for an example. I decided to proceed with Min-Max Scaling because Standardization Scaling did not result well."
   ]
  },
  {
   "cell_type": "markdown",
   "id": "28d65d3a",
   "metadata": {
    "id": "28d65d3a"
   },
   "source": [
    "<font size = 5> Random Forest Regression"
   ]
  },
  {
   "cell_type": "markdown",
   "id": "005b868b",
   "metadata": {
    "id": "005b868b"
   },
   "source": [
    "<font size = 4> Train the Model"
   ]
  },
  {
   "cell_type": "code",
   "execution_count": 20,
   "id": "f7ef06da",
   "metadata": {
    "colab": {
     "base_uri": "https://localhost:8080/",
     "height": 75
    },
    "id": "f7ef06da",
    "outputId": "54a9034c-9350-4b06-e7e5-997330255515"
   },
   "outputs": [
    {
     "data": {
      "text/html": [
       "<style>#sk-container-id-1 {color: black;background-color: white;}#sk-container-id-1 pre{padding: 0;}#sk-container-id-1 div.sk-toggleable {background-color: white;}#sk-container-id-1 label.sk-toggleable__label {cursor: pointer;display: block;width: 100%;margin-bottom: 0;padding: 0.3em;box-sizing: border-box;text-align: center;}#sk-container-id-1 label.sk-toggleable__label-arrow:before {content: \"▸\";float: left;margin-right: 0.25em;color: #696969;}#sk-container-id-1 label.sk-toggleable__label-arrow:hover:before {color: black;}#sk-container-id-1 div.sk-estimator:hover label.sk-toggleable__label-arrow:before {color: black;}#sk-container-id-1 div.sk-toggleable__content {max-height: 0;max-width: 0;overflow: hidden;text-align: left;background-color: #f0f8ff;}#sk-container-id-1 div.sk-toggleable__content pre {margin: 0.2em;color: black;border-radius: 0.25em;background-color: #f0f8ff;}#sk-container-id-1 input.sk-toggleable__control:checked~div.sk-toggleable__content {max-height: 200px;max-width: 100%;overflow: auto;}#sk-container-id-1 input.sk-toggleable__control:checked~label.sk-toggleable__label-arrow:before {content: \"▾\";}#sk-container-id-1 div.sk-estimator input.sk-toggleable__control:checked~label.sk-toggleable__label {background-color: #d4ebff;}#sk-container-id-1 div.sk-label input.sk-toggleable__control:checked~label.sk-toggleable__label {background-color: #d4ebff;}#sk-container-id-1 input.sk-hidden--visually {border: 0;clip: rect(1px 1px 1px 1px);clip: rect(1px, 1px, 1px, 1px);height: 1px;margin: -1px;overflow: hidden;padding: 0;position: absolute;width: 1px;}#sk-container-id-1 div.sk-estimator {font-family: monospace;background-color: #f0f8ff;border: 1px dotted black;border-radius: 0.25em;box-sizing: border-box;margin-bottom: 0.5em;}#sk-container-id-1 div.sk-estimator:hover {background-color: #d4ebff;}#sk-container-id-1 div.sk-parallel-item::after {content: \"\";width: 100%;border-bottom: 1px solid gray;flex-grow: 1;}#sk-container-id-1 div.sk-label:hover label.sk-toggleable__label {background-color: #d4ebff;}#sk-container-id-1 div.sk-serial::before {content: \"\";position: absolute;border-left: 1px solid gray;box-sizing: border-box;top: 0;bottom: 0;left: 50%;z-index: 0;}#sk-container-id-1 div.sk-serial {display: flex;flex-direction: column;align-items: center;background-color: white;padding-right: 0.2em;padding-left: 0.2em;position: relative;}#sk-container-id-1 div.sk-item {position: relative;z-index: 1;}#sk-container-id-1 div.sk-parallel {display: flex;align-items: stretch;justify-content: center;background-color: white;position: relative;}#sk-container-id-1 div.sk-item::before, #sk-container-id-1 div.sk-parallel-item::before {content: \"\";position: absolute;border-left: 1px solid gray;box-sizing: border-box;top: 0;bottom: 0;left: 50%;z-index: -1;}#sk-container-id-1 div.sk-parallel-item {display: flex;flex-direction: column;z-index: 1;position: relative;background-color: white;}#sk-container-id-1 div.sk-parallel-item:first-child::after {align-self: flex-end;width: 50%;}#sk-container-id-1 div.sk-parallel-item:last-child::after {align-self: flex-start;width: 50%;}#sk-container-id-1 div.sk-parallel-item:only-child::after {width: 0;}#sk-container-id-1 div.sk-dashed-wrapped {border: 1px dashed gray;margin: 0 0.4em 0.5em 0.4em;box-sizing: border-box;padding-bottom: 0.4em;background-color: white;}#sk-container-id-1 div.sk-label label {font-family: monospace;font-weight: bold;display: inline-block;line-height: 1.2em;}#sk-container-id-1 div.sk-label-container {text-align: center;}#sk-container-id-1 div.sk-container {/* jupyter's `normalize.less` sets `[hidden] { display: none; }` but bootstrap.min.css set `[hidden] { display: none !important; }` so we also need the `!important` here to be able to override the default hidden behavior on the sphinx rendered scikit-learn.org. See: https://github.com/scikit-learn/scikit-learn/issues/21755 */display: inline-block !important;position: relative;}#sk-container-id-1 div.sk-text-repr-fallback {display: none;}</style><div id=\"sk-container-id-1\" class=\"sk-top-container\"><div class=\"sk-text-repr-fallback\"><pre>RandomForestRegressor(random_state=42)</pre><b>In a Jupyter environment, please rerun this cell to show the HTML representation or trust the notebook. <br />On GitHub, the HTML representation is unable to render, please try loading this page with nbviewer.org.</b></div><div class=\"sk-container\" hidden><div class=\"sk-item\"><div class=\"sk-estimator sk-toggleable\"><input class=\"sk-toggleable__control sk-hidden--visually\" id=\"sk-estimator-id-1\" type=\"checkbox\" checked><label for=\"sk-estimator-id-1\" class=\"sk-toggleable__label sk-toggleable__label-arrow\">RandomForestRegressor</label><div class=\"sk-toggleable__content\"><pre>RandomForestRegressor(random_state=42)</pre></div></div></div></div></div>"
      ],
      "text/plain": [
       "RandomForestRegressor(random_state=42)"
      ]
     },
     "execution_count": 20,
     "metadata": {},
     "output_type": "execute_result"
    }
   ],
   "source": [
    "rf_reg = sklearn.ensemble.RandomForestRegressor(random_state=42)\n",
    "\n",
    "rf_reg.fit(x_train_minmax, y_train)"
   ]
  },
  {
   "cell_type": "markdown",
   "id": "SVps4IkW3S_Q",
   "metadata": {
    "id": "SVps4IkW3S_Q"
   },
   "source": [
    "I wrote random_state=42 because I want to reduce the randomless from my results while I am experimenting."
   ]
  },
  {
   "cell_type": "code",
   "execution_count": 21,
   "id": "10b6a9a5",
   "metadata": {
    "colab": {
     "base_uri": "https://localhost:8080/"
    },
    "id": "10b6a9a5",
    "outputId": "2cca4657-2f5d-45d7-b501-0a77b8d295c7"
   },
   "outputs": [
    {
     "name": "stdout",
     "output_type": "stream",
     "text": [
      "Help on class RandomForestRegressor in module sklearn.ensemble._forest:\n",
      "\n",
      "class RandomForestRegressor(ForestRegressor)\n",
      " |  RandomForestRegressor(n_estimators=100, *, criterion='squared_error', max_depth=None, min_samples_split=2, min_samples_leaf=1, min_weight_fraction_leaf=0.0, max_features=1.0, max_leaf_nodes=None, min_impurity_decrease=0.0, bootstrap=True, oob_score=False, n_jobs=None, random_state=None, verbose=0, warm_start=False, ccp_alpha=0.0, max_samples=None)\n",
      " |  \n",
      " |  A random forest regressor.\n",
      " |  \n",
      " |  A random forest is a meta estimator that fits a number of classifying\n",
      " |  decision trees on various sub-samples of the dataset and uses averaging\n",
      " |  to improve the predictive accuracy and control over-fitting.\n",
      " |  The sub-sample size is controlled with the `max_samples` parameter if\n",
      " |  `bootstrap=True` (default), otherwise the whole dataset is used to build\n",
      " |  each tree.\n",
      " |  \n",
      " |  Read more in the :ref:`User Guide <forest>`.\n",
      " |  \n",
      " |  Parameters\n",
      " |  ----------\n",
      " |  n_estimators : int, default=100\n",
      " |      The number of trees in the forest.\n",
      " |  \n",
      " |      .. versionchanged:: 0.22\n",
      " |         The default value of ``n_estimators`` changed from 10 to 100\n",
      " |         in 0.22.\n",
      " |  \n",
      " |  criterion : {\"squared_error\", \"absolute_error\", \"friedman_mse\", \"poisson\"},             default=\"squared_error\"\n",
      " |      The function to measure the quality of a split. Supported criteria\n",
      " |      are \"squared_error\" for the mean squared error, which is equal to\n",
      " |      variance reduction as feature selection criterion and minimizes the L2\n",
      " |      loss using the mean of each terminal node, \"friedman_mse\", which uses\n",
      " |      mean squared error with Friedman's improvement score for potential\n",
      " |      splits, \"absolute_error\" for the mean absolute error, which minimizes\n",
      " |      the L1 loss using the median of each terminal node, and \"poisson\" which\n",
      " |      uses reduction in Poisson deviance to find splits.\n",
      " |      Training using \"absolute_error\" is significantly slower\n",
      " |      than when using \"squared_error\".\n",
      " |  \n",
      " |      .. versionadded:: 0.18\n",
      " |         Mean Absolute Error (MAE) criterion.\n",
      " |  \n",
      " |      .. versionadded:: 1.0\n",
      " |         Poisson criterion.\n",
      " |  \n",
      " |  max_depth : int, default=None\n",
      " |      The maximum depth of the tree. If None, then nodes are expanded until\n",
      " |      all leaves are pure or until all leaves contain less than\n",
      " |      min_samples_split samples.\n",
      " |  \n",
      " |  min_samples_split : int or float, default=2\n",
      " |      The minimum number of samples required to split an internal node:\n",
      " |  \n",
      " |      - If int, then consider `min_samples_split` as the minimum number.\n",
      " |      - If float, then `min_samples_split` is a fraction and\n",
      " |        `ceil(min_samples_split * n_samples)` are the minimum\n",
      " |        number of samples for each split.\n",
      " |  \n",
      " |      .. versionchanged:: 0.18\n",
      " |         Added float values for fractions.\n",
      " |  \n",
      " |  min_samples_leaf : int or float, default=1\n",
      " |      The minimum number of samples required to be at a leaf node.\n",
      " |      A split point at any depth will only be considered if it leaves at\n",
      " |      least ``min_samples_leaf`` training samples in each of the left and\n",
      " |      right branches.  This may have the effect of smoothing the model,\n",
      " |      especially in regression.\n",
      " |  \n",
      " |      - If int, then consider `min_samples_leaf` as the minimum number.\n",
      " |      - If float, then `min_samples_leaf` is a fraction and\n",
      " |        `ceil(min_samples_leaf * n_samples)` are the minimum\n",
      " |        number of samples for each node.\n",
      " |  \n",
      " |      .. versionchanged:: 0.18\n",
      " |         Added float values for fractions.\n",
      " |  \n",
      " |  min_weight_fraction_leaf : float, default=0.0\n",
      " |      The minimum weighted fraction of the sum total of weights (of all\n",
      " |      the input samples) required to be at a leaf node. Samples have\n",
      " |      equal weight when sample_weight is not provided.\n",
      " |  \n",
      " |  max_features : {\"sqrt\", \"log2\", None}, int or float, default=1.0\n",
      " |      The number of features to consider when looking for the best split:\n",
      " |  \n",
      " |      - If int, then consider `max_features` features at each split.\n",
      " |      - If float, then `max_features` is a fraction and\n",
      " |        `max(1, int(max_features * n_features_in_))` features are considered at each\n",
      " |        split.\n",
      " |      - If \"auto\", then `max_features=n_features`.\n",
      " |      - If \"sqrt\", then `max_features=sqrt(n_features)`.\n",
      " |      - If \"log2\", then `max_features=log2(n_features)`.\n",
      " |      - If None or 1.0, then `max_features=n_features`.\n",
      " |  \n",
      " |      .. note::\n",
      " |          The default of 1.0 is equivalent to bagged trees and more\n",
      " |          randomness can be achieved by setting smaller values, e.g. 0.3.\n",
      " |  \n",
      " |      .. versionchanged:: 1.1\n",
      " |          The default of `max_features` changed from `\"auto\"` to 1.0.\n",
      " |  \n",
      " |      .. deprecated:: 1.1\n",
      " |          The `\"auto\"` option was deprecated in 1.1 and will be removed\n",
      " |          in 1.3.\n",
      " |  \n",
      " |      Note: the search for a split does not stop until at least one\n",
      " |      valid partition of the node samples is found, even if it requires to\n",
      " |      effectively inspect more than ``max_features`` features.\n",
      " |  \n",
      " |  max_leaf_nodes : int, default=None\n",
      " |      Grow trees with ``max_leaf_nodes`` in best-first fashion.\n",
      " |      Best nodes are defined as relative reduction in impurity.\n",
      " |      If None then unlimited number of leaf nodes.\n",
      " |  \n",
      " |  min_impurity_decrease : float, default=0.0\n",
      " |      A node will be split if this split induces a decrease of the impurity\n",
      " |      greater than or equal to this value.\n",
      " |  \n",
      " |      The weighted impurity decrease equation is the following::\n",
      " |  \n",
      " |          N_t / N * (impurity - N_t_R / N_t * right_impurity\n",
      " |                              - N_t_L / N_t * left_impurity)\n",
      " |  \n",
      " |      where ``N`` is the total number of samples, ``N_t`` is the number of\n",
      " |      samples at the current node, ``N_t_L`` is the number of samples in the\n",
      " |      left child, and ``N_t_R`` is the number of samples in the right child.\n",
      " |  \n",
      " |      ``N``, ``N_t``, ``N_t_R`` and ``N_t_L`` all refer to the weighted sum,\n",
      " |      if ``sample_weight`` is passed.\n",
      " |  \n",
      " |      .. versionadded:: 0.19\n",
      " |  \n",
      " |  bootstrap : bool, default=True\n",
      " |      Whether bootstrap samples are used when building trees. If False, the\n",
      " |      whole dataset is used to build each tree.\n",
      " |  \n",
      " |  oob_score : bool, default=False\n",
      " |      Whether to use out-of-bag samples to estimate the generalization score.\n",
      " |      Only available if bootstrap=True.\n",
      " |  \n",
      " |  n_jobs : int, default=None\n",
      " |      The number of jobs to run in parallel. :meth:`fit`, :meth:`predict`,\n",
      " |      :meth:`decision_path` and :meth:`apply` are all parallelized over the\n",
      " |      trees. ``None`` means 1 unless in a :obj:`joblib.parallel_backend`\n",
      " |      context. ``-1`` means using all processors. See :term:`Glossary\n",
      " |      <n_jobs>` for more details.\n",
      " |  \n",
      " |  random_state : int, RandomState instance or None, default=None\n",
      " |      Controls both the randomness of the bootstrapping of the samples used\n",
      " |      when building trees (if ``bootstrap=True``) and the sampling of the\n",
      " |      features to consider when looking for the best split at each node\n",
      " |      (if ``max_features < n_features``).\n",
      " |      See :term:`Glossary <random_state>` for details.\n",
      " |  \n",
      " |  verbose : int, default=0\n",
      " |      Controls the verbosity when fitting and predicting.\n",
      " |  \n",
      " |  warm_start : bool, default=False\n",
      " |      When set to ``True``, reuse the solution of the previous call to fit\n",
      " |      and add more estimators to the ensemble, otherwise, just fit a whole\n",
      " |      new forest. See :term:`Glossary <warm_start>` and\n",
      " |      :ref:`gradient_boosting_warm_start` for details.\n",
      " |  \n",
      " |  ccp_alpha : non-negative float, default=0.0\n",
      " |      Complexity parameter used for Minimal Cost-Complexity Pruning. The\n",
      " |      subtree with the largest cost complexity that is smaller than\n",
      " |      ``ccp_alpha`` will be chosen. By default, no pruning is performed. See\n",
      " |      :ref:`minimal_cost_complexity_pruning` for details.\n",
      " |  \n",
      " |      .. versionadded:: 0.22\n",
      " |  \n",
      " |  max_samples : int or float, default=None\n",
      " |      If bootstrap is True, the number of samples to draw from X\n",
      " |      to train each base estimator.\n",
      " |  \n",
      " |      - If None (default), then draw `X.shape[0]` samples.\n",
      " |      - If int, then draw `max_samples` samples.\n",
      " |      - If float, then draw `max_samples * X.shape[0]` samples. Thus,\n",
      " |        `max_samples` should be in the interval `(0.0, 1.0]`.\n",
      " |  \n",
      " |      .. versionadded:: 0.22\n",
      " |  \n",
      " |  Attributes\n",
      " |  ----------\n",
      " |  estimator_ : :class:`~sklearn.tree.DecisionTreeRegressor`\n",
      " |      The child estimator template used to create the collection of fitted\n",
      " |      sub-estimators.\n",
      " |  \n",
      " |      .. versionadded:: 1.2\n",
      " |         `base_estimator_` was renamed to `estimator_`.\n",
      " |  \n",
      " |  base_estimator_ : DecisionTreeRegressor\n",
      " |      The child estimator template used to create the collection of fitted\n",
      " |      sub-estimators.\n",
      " |  \n",
      " |      .. deprecated:: 1.2\n",
      " |          `base_estimator_` is deprecated and will be removed in 1.4.\n",
      " |          Use `estimator_` instead.\n",
      " |  \n",
      " |  estimators_ : list of DecisionTreeRegressor\n",
      " |      The collection of fitted sub-estimators.\n",
      " |  \n",
      " |  feature_importances_ : ndarray of shape (n_features,)\n",
      " |      The impurity-based feature importances.\n",
      " |      The higher, the more important the feature.\n",
      " |      The importance of a feature is computed as the (normalized)\n",
      " |      total reduction of the criterion brought by that feature.  It is also\n",
      " |      known as the Gini importance.\n",
      " |  \n",
      " |      Warning: impurity-based feature importances can be misleading for\n",
      " |      high cardinality features (many unique values). See\n",
      " |      :func:`sklearn.inspection.permutation_importance` as an alternative.\n",
      " |  \n",
      " |  n_features_in_ : int\n",
      " |      Number of features seen during :term:`fit`.\n",
      " |  \n",
      " |      .. versionadded:: 0.24\n",
      " |  \n",
      " |  feature_names_in_ : ndarray of shape (`n_features_in_`,)\n",
      " |      Names of features seen during :term:`fit`. Defined only when `X`\n",
      " |      has feature names that are all strings.\n",
      " |  \n",
      " |      .. versionadded:: 1.0\n",
      " |  \n",
      " |  n_outputs_ : int\n",
      " |      The number of outputs when ``fit`` is performed.\n",
      " |  \n",
      " |  oob_score_ : float\n",
      " |      Score of the training dataset obtained using an out-of-bag estimate.\n",
      " |      This attribute exists only when ``oob_score`` is True.\n",
      " |  \n",
      " |  oob_prediction_ : ndarray of shape (n_samples,) or (n_samples, n_outputs)\n",
      " |      Prediction computed with out-of-bag estimate on the training set.\n",
      " |      This attribute exists only when ``oob_score`` is True.\n",
      " |  \n",
      " |  See Also\n",
      " |  --------\n",
      " |  sklearn.tree.DecisionTreeRegressor : A decision tree regressor.\n",
      " |  sklearn.ensemble.ExtraTreesRegressor : Ensemble of extremely randomized\n",
      " |      tree regressors.\n",
      " |  \n",
      " |  Notes\n",
      " |  -----\n",
      " |  The default values for the parameters controlling the size of the trees\n",
      " |  (e.g. ``max_depth``, ``min_samples_leaf``, etc.) lead to fully grown and\n",
      " |  unpruned trees which can potentially be very large on some data sets. To\n",
      " |  reduce memory consumption, the complexity and size of the trees should be\n",
      " |  controlled by setting those parameter values.\n",
      " |  \n",
      " |  The features are always randomly permuted at each split. Therefore,\n",
      " |  the best found split may vary, even with the same training data,\n",
      " |  ``max_features=n_features`` and ``bootstrap=False``, if the improvement\n",
      " |  of the criterion is identical for several splits enumerated during the\n",
      " |  search of the best split. To obtain a deterministic behaviour during\n",
      " |  fitting, ``random_state`` has to be fixed.\n",
      " |  \n",
      " |  The default value ``max_features=\"auto\"`` uses ``n_features``\n",
      " |  rather than ``n_features / 3``. The latter was originally suggested in\n",
      " |  [1], whereas the former was more recently justified empirically in [2].\n",
      " |  \n",
      " |  References\n",
      " |  ----------\n",
      " |  .. [1] L. Breiman, \"Random Forests\", Machine Learning, 45(1), 5-32, 2001.\n",
      " |  \n",
      " |  .. [2] P. Geurts, D. Ernst., and L. Wehenkel, \"Extremely randomized\n",
      " |         trees\", Machine Learning, 63(1), 3-42, 2006.\n",
      " |  \n",
      " |  Examples\n",
      " |  --------\n",
      " |  >>> from sklearn.ensemble import RandomForestRegressor\n",
      " |  >>> from sklearn.datasets import make_regression\n",
      " |  >>> X, y = make_regression(n_features=4, n_informative=2,\n",
      " |  ...                        random_state=0, shuffle=False)\n",
      " |  >>> regr = RandomForestRegressor(max_depth=2, random_state=0)\n",
      " |  >>> regr.fit(X, y)\n",
      " |  RandomForestRegressor(...)\n",
      " |  >>> print(regr.predict([[0, 0, 0, 0]]))\n",
      " |  [-8.32987858]\n",
      " |  \n",
      " |  Method resolution order:\n",
      " |      RandomForestRegressor\n",
      " |      ForestRegressor\n",
      " |      sklearn.base.RegressorMixin\n",
      " |      BaseForest\n",
      " |      sklearn.base.MultiOutputMixin\n",
      " |      sklearn.ensemble._base.BaseEnsemble\n",
      " |      sklearn.base.MetaEstimatorMixin\n",
      " |      sklearn.base.BaseEstimator\n",
      " |      builtins.object\n",
      " |  \n",
      " |  Methods defined here:\n",
      " |  \n",
      " |  __init__(self, n_estimators=100, *, criterion='squared_error', max_depth=None, min_samples_split=2, min_samples_leaf=1, min_weight_fraction_leaf=0.0, max_features=1.0, max_leaf_nodes=None, min_impurity_decrease=0.0, bootstrap=True, oob_score=False, n_jobs=None, random_state=None, verbose=0, warm_start=False, ccp_alpha=0.0, max_samples=None)\n",
      " |      Initialize self.  See help(type(self)) for accurate signature.\n",
      " |  \n",
      " |  ----------------------------------------------------------------------\n",
      " |  Data and other attributes defined here:\n",
      " |  \n",
      " |  __abstractmethods__ = frozenset()\n",
      " |  \n",
      " |  __annotations__ = {'_parameter_constraints': <class 'dict'>}\n",
      " |  \n",
      " |  ----------------------------------------------------------------------\n",
      " |  Methods inherited from ForestRegressor:\n",
      " |  \n",
      " |  predict(self, X)\n",
      " |      Predict regression target for X.\n",
      " |      \n",
      " |      The predicted regression target of an input sample is computed as the\n",
      " |      mean predicted regression targets of the trees in the forest.\n",
      " |      \n",
      " |      Parameters\n",
      " |      ----------\n",
      " |      X : {array-like, sparse matrix} of shape (n_samples, n_features)\n",
      " |          The input samples. Internally, its dtype will be converted to\n",
      " |          ``dtype=np.float32``. If a sparse matrix is provided, it will be\n",
      " |          converted into a sparse ``csr_matrix``.\n",
      " |      \n",
      " |      Returns\n",
      " |      -------\n",
      " |      y : ndarray of shape (n_samples,) or (n_samples, n_outputs)\n",
      " |          The predicted values.\n",
      " |  \n",
      " |  ----------------------------------------------------------------------\n",
      " |  Methods inherited from sklearn.base.RegressorMixin:\n",
      " |  \n",
      " |  score(self, X, y, sample_weight=None)\n",
      " |      Return the coefficient of determination of the prediction.\n",
      " |      \n",
      " |      The coefficient of determination :math:`R^2` is defined as\n",
      " |      :math:`(1 - \\frac{u}{v})`, where :math:`u` is the residual\n",
      " |      sum of squares ``((y_true - y_pred)** 2).sum()`` and :math:`v`\n",
      " |      is the total sum of squares ``((y_true - y_true.mean()) ** 2).sum()``.\n",
      " |      The best possible score is 1.0 and it can be negative (because the\n",
      " |      model can be arbitrarily worse). A constant model that always predicts\n",
      " |      the expected value of `y`, disregarding the input features, would get\n",
      " |      a :math:`R^2` score of 0.0.\n",
      " |      \n",
      " |      Parameters\n",
      " |      ----------\n",
      " |      X : array-like of shape (n_samples, n_features)\n",
      " |          Test samples. For some estimators this may be a precomputed\n",
      " |          kernel matrix or a list of generic objects instead with shape\n",
      " |          ``(n_samples, n_samples_fitted)``, where ``n_samples_fitted``\n",
      " |          is the number of samples used in the fitting for the estimator.\n",
      " |      \n",
      " |      y : array-like of shape (n_samples,) or (n_samples, n_outputs)\n",
      " |          True values for `X`.\n",
      " |      \n",
      " |      sample_weight : array-like of shape (n_samples,), default=None\n",
      " |          Sample weights.\n",
      " |      \n",
      " |      Returns\n",
      " |      -------\n",
      " |      score : float\n",
      " |          :math:`R^2` of ``self.predict(X)`` wrt. `y`.\n",
      " |      \n",
      " |      Notes\n",
      " |      -----\n",
      " |      The :math:`R^2` score used when calling ``score`` on a regressor uses\n",
      " |      ``multioutput='uniform_average'`` from version 0.23 to keep consistent\n",
      " |      with default value of :func:`~sklearn.metrics.r2_score`.\n",
      " |      This influences the ``score`` method of all the multioutput\n",
      " |      regressors (except for\n",
      " |      :class:`~sklearn.multioutput.MultiOutputRegressor`).\n",
      " |  \n",
      " |  ----------------------------------------------------------------------\n",
      " |  Data descriptors inherited from sklearn.base.RegressorMixin:\n",
      " |  \n",
      " |  __dict__\n",
      " |      dictionary for instance variables (if defined)\n",
      " |  \n",
      " |  __weakref__\n",
      " |      list of weak references to the object (if defined)\n",
      " |  \n",
      " |  ----------------------------------------------------------------------\n",
      " |  Methods inherited from BaseForest:\n",
      " |  \n",
      " |  apply(self, X)\n",
      " |      Apply trees in the forest to X, return leaf indices.\n",
      " |      \n",
      " |      Parameters\n",
      " |      ----------\n",
      " |      X : {array-like, sparse matrix} of shape (n_samples, n_features)\n",
      " |          The input samples. Internally, its dtype will be converted to\n",
      " |          ``dtype=np.float32``. If a sparse matrix is provided, it will be\n",
      " |          converted into a sparse ``csr_matrix``.\n",
      " |      \n",
      " |      Returns\n",
      " |      -------\n",
      " |      X_leaves : ndarray of shape (n_samples, n_estimators)\n",
      " |          For each datapoint x in X and for each tree in the forest,\n",
      " |          return the index of the leaf x ends up in.\n",
      " |  \n",
      " |  decision_path(self, X)\n",
      " |      Return the decision path in the forest.\n",
      " |      \n",
      " |      .. versionadded:: 0.18\n",
      " |      \n",
      " |      Parameters\n",
      " |      ----------\n",
      " |      X : {array-like, sparse matrix} of shape (n_samples, n_features)\n",
      " |          The input samples. Internally, its dtype will be converted to\n",
      " |          ``dtype=np.float32``. If a sparse matrix is provided, it will be\n",
      " |          converted into a sparse ``csr_matrix``.\n",
      " |      \n",
      " |      Returns\n",
      " |      -------\n",
      " |      indicator : sparse matrix of shape (n_samples, n_nodes)\n",
      " |          Return a node indicator matrix where non zero elements indicates\n",
      " |          that the samples goes through the nodes. The matrix is of CSR\n",
      " |          format.\n",
      " |      \n",
      " |      n_nodes_ptr : ndarray of shape (n_estimators + 1,)\n",
      " |          The columns from indicator[n_nodes_ptr[i]:n_nodes_ptr[i+1]]\n",
      " |          gives the indicator value for the i-th estimator.\n",
      " |  \n",
      " |  fit(self, X, y, sample_weight=None)\n",
      " |      Build a forest of trees from the training set (X, y).\n",
      " |      \n",
      " |      Parameters\n",
      " |      ----------\n",
      " |      X : {array-like, sparse matrix} of shape (n_samples, n_features)\n",
      " |          The training input samples. Internally, its dtype will be converted\n",
      " |          to ``dtype=np.float32``. If a sparse matrix is provided, it will be\n",
      " |          converted into a sparse ``csc_matrix``.\n",
      " |      \n",
      " |      y : array-like of shape (n_samples,) or (n_samples, n_outputs)\n",
      " |          The target values (class labels in classification, real numbers in\n",
      " |          regression).\n",
      " |      \n",
      " |      sample_weight : array-like of shape (n_samples,), default=None\n",
      " |          Sample weights. If None, then samples are equally weighted. Splits\n",
      " |          that would create child nodes with net zero or negative weight are\n",
      " |          ignored while searching for a split in each node. In the case of\n",
      " |          classification, splits are also ignored if they would result in any\n",
      " |          single class carrying a negative weight in either child node.\n",
      " |      \n",
      " |      Returns\n",
      " |      -------\n",
      " |      self : object\n",
      " |          Fitted estimator.\n",
      " |  \n",
      " |  ----------------------------------------------------------------------\n",
      " |  Readonly properties inherited from BaseForest:\n",
      " |  \n",
      " |  feature_importances_\n",
      " |      The impurity-based feature importances.\n",
      " |      \n",
      " |      The higher, the more important the feature.\n",
      " |      The importance of a feature is computed as the (normalized)\n",
      " |      total reduction of the criterion brought by that feature.  It is also\n",
      " |      known as the Gini importance.\n",
      " |      \n",
      " |      Warning: impurity-based feature importances can be misleading for\n",
      " |      high cardinality features (many unique values). See\n",
      " |      :func:`sklearn.inspection.permutation_importance` as an alternative.\n",
      " |      \n",
      " |      Returns\n",
      " |      -------\n",
      " |      feature_importances_ : ndarray of shape (n_features,)\n",
      " |          The values of this array sum to 1, unless all trees are single node\n",
      " |          trees consisting of only the root node, in which case it will be an\n",
      " |          array of zeros.\n",
      " |  \n",
      " |  ----------------------------------------------------------------------\n",
      " |  Methods inherited from sklearn.ensemble._base.BaseEnsemble:\n",
      " |  \n",
      " |  __getitem__(self, index)\n",
      " |      Return the index'th estimator in the ensemble.\n",
      " |  \n",
      " |  __iter__(self)\n",
      " |      Return iterator over estimators in the ensemble.\n",
      " |  \n",
      " |  __len__(self)\n",
      " |      Return the number of estimators in the ensemble.\n",
      " |  \n",
      " |  ----------------------------------------------------------------------\n",
      " |  Readonly properties inherited from sklearn.ensemble._base.BaseEnsemble:\n",
      " |  \n",
      " |  base_estimator_\n",
      " |      Estimator used to grow the ensemble.\n",
      " |  \n",
      " |  estimator_\n",
      " |      Estimator used to grow the ensemble.\n",
      " |  \n",
      " |  ----------------------------------------------------------------------\n",
      " |  Methods inherited from sklearn.base.BaseEstimator:\n",
      " |  \n",
      " |  __getstate__(self)\n",
      " |  \n",
      " |  __repr__(self, N_CHAR_MAX=700)\n",
      " |      Return repr(self).\n",
      " |  \n",
      " |  __setstate__(self, state)\n",
      " |  \n",
      " |  get_params(self, deep=True)\n",
      " |      Get parameters for this estimator.\n",
      " |      \n",
      " |      Parameters\n",
      " |      ----------\n",
      " |      deep : bool, default=True\n",
      " |          If True, will return the parameters for this estimator and\n",
      " |          contained subobjects that are estimators.\n",
      " |      \n",
      " |      Returns\n",
      " |      -------\n",
      " |      params : dict\n",
      " |          Parameter names mapped to their values.\n",
      " |  \n",
      " |  set_params(self, **params)\n",
      " |      Set the parameters of this estimator.\n",
      " |      \n",
      " |      The method works on simple estimators as well as on nested objects\n",
      " |      (such as :class:`~sklearn.pipeline.Pipeline`). The latter have\n",
      " |      parameters of the form ``<component>__<parameter>`` so that it's\n",
      " |      possible to update each component of a nested object.\n",
      " |      \n",
      " |      Parameters\n",
      " |      ----------\n",
      " |      **params : dict\n",
      " |          Estimator parameters.\n",
      " |      \n",
      " |      Returns\n",
      " |      -------\n",
      " |      self : estimator instance\n",
      " |          Estimator instance.\n",
      "\n"
     ]
    }
   ],
   "source": [
    "help(sklearn.ensemble.RandomForestRegressor)"
   ]
  },
  {
   "cell_type": "markdown",
   "id": "ea223a81",
   "metadata": {
    "id": "ea223a81"
   },
   "source": [
    "The number of estimators by default for the Random Forest Regression is 100. Which means it creates 100 trees. It averages the result from the each tree. This is a metod that we are using to reduce overfitting.\n",
    "\n",
    "\n",
    "max_depth is none which means it doesn't set a depth limit. So, the tree can grow as much as it wants.\n",
    "\n",
    "\n",
    "max_leaf_nodes is also none which means doesn't set a limit either."
   ]
  },
  {
   "cell_type": "markdown",
   "id": "356f6e47",
   "metadata": {
    "id": "356f6e47"
   },
   "source": [
    "<font size = 4> Predict the Model"
   ]
  },
  {
   "cell_type": "code",
   "execution_count": 22,
   "id": "55c56ac5",
   "metadata": {
    "colab": {
     "base_uri": "https://localhost:8080/"
    },
    "id": "55c56ac5",
    "outputId": "4aeea57a-ce03-484d-8d8d-415df9f9bdee",
    "scrolled": true
   },
   "outputs": [
    {
     "data": {
      "text/plain": [
       "array([6158.98, 1470.23, 3294.95, 3265.01, 6603.49, 6309.38, 1423.17,\n",
       "       2300.79, 6037.1 , 5705.23, 1635.32, 2535.26, 4234.94, 4863.36,\n",
       "       1828.36, 1335.77, 1801.68, 6743.16, 4025.4 , 2060.58, 6375.43,\n",
       "       5064.15, 4595.02, 1616.53, 1618.51, 4038.96, 1676.95, 6269.68,\n",
       "       3108.42, 4701.16, 2121.93, 3415.48, 5293.9 , 6040.77, 5123.56,\n",
       "       3960.42, 6222.29, 4123.66, 3011.74,  857.84, 2832.87, 3016.72,\n",
       "       6113.23, 3108.03, 5895.84, 2233.61, 3542.08, 4748.09, 3967.07,\n",
       "       3528.58, 2641.93, 2404.13, 1553.88, 2796.43, 3954.87, 3475.08,\n",
       "       3567.8 , 2544.17, 2697.18, 5655.82, 5129.17, 5880.57, 1716.07,\n",
       "       4534.1 , 5793.54, 5486.66, 4292.91, 2762.08, 1153.63, 4885.45,\n",
       "       2112.19, 1402.55, 3018.76, 2786.51, 4050.87, 2716.22, 4559.86,\n",
       "       3808.37, 1318.95, 3554.9 , 2318.69, 1899.89, 4633.53, 4093.73,\n",
       "       3469.5 , 2972.93, 3217.05, 2580.23, 3402.45, 3209.07, 1247.14,\n",
       "       5872.08, 4956.11, 4862.48, 2462.99, 2054.34, 3903.52, 2650.73,\n",
       "       2885.85, 3816.54, 6299.03, 2607.03, 5612.74, 1483.52, 1844.96,\n",
       "       4918.71, 2175.83, 2229.09, 5327.55, 1195.11, 3580.89, 6251.93,\n",
       "       3354.56, 6558.13, 4867.65, 2755.35, 1575.39, 3332.5 , 3167.2 ,\n",
       "       2354.15, 5226.14, 2246.13, 2386.24, 1391.37, 3746.12, 4853.16,\n",
       "       3539.25, 2519.25, 1816.6 , 3822.98, 2653.83, 3670.89, 4756.96,\n",
       "       4980.13, 4166.26, 1722.59, 4967.81, 4627.06, 1721.73, 3746.13,\n",
       "       3899.02, 1910.43, 1343.93, 3620.6 , 3499.51, 4282.27, 3821.48])"
      ]
     },
     "execution_count": 22,
     "metadata": {},
     "output_type": "execute_result"
    }
   ],
   "source": [
    "pred = rf_reg.predict(x_test_minmax)\n",
    "pred"
   ]
  },
  {
   "cell_type": "markdown",
   "id": "cc04b21f",
   "metadata": {
    "id": "cc04b21f"
   },
   "source": [
    "<font size = 4> Evaluate the Model"
   ]
  },
  {
   "cell_type": "code",
   "execution_count": 23,
   "id": "e1bbe756",
   "metadata": {
    "colab": {
     "base_uri": "https://localhost:8080/"
    },
    "id": "e1bbe756",
    "outputId": "cccfcb9a-c371-4b0c-d8a8-d4884c901e20"
   },
   "outputs": [
    {
     "name": "stdout",
     "output_type": "stream",
     "text": [
      "R2: 0.8838285088325416\n",
      "MSE: 318446.1631027211\n",
      "Square Root of MSE: 564.3103428989416\n"
     ]
    }
   ],
   "source": [
    "rf_reg_r2 = sklearn.metrics.r2_score(y_test, pred)\n",
    "print('R2:', format(rf_reg_r2))\n",
    "\n",
    "rf_reg_mse = sklearn.metrics.mean_squared_error(y_test, pred)\n",
    "print('MSE:', format(rf_reg_mse))\n",
    "\n",
    "print('Square Root of MSE:', np.sqrt(rf_reg_mse))"
   ]
  },
  {
   "cell_type": "markdown",
   "id": "812efb00",
   "metadata": {
    "id": "812efb00"
   },
   "source": [
    "R2 and MSE scores are good.\n",
    "Based on the result, I can compare with the target values. The accuracy is %87.4709. Not low but I can make it better with Hyperparameter Tuning."
   ]
  },
  {
   "cell_type": "markdown",
   "id": "11de3d58",
   "metadata": {
    "id": "11de3d58"
   },
   "source": [
    "<font size = 4> Hyperparameter Tuning"
   ]
  },
  {
   "cell_type": "code",
   "execution_count": 24,
   "id": "6d49de8a",
   "metadata": {
    "colab": {
     "base_uri": "https://localhost:8080/"
    },
    "id": "6d49de8a",
    "outputId": "96d1c21d-a273-488f-f5aa-f82528fd1024"
   },
   "outputs": [
    {
     "data": {
      "text/plain": [
       "{'max_depth': None, 'max_leaf_nodes': None, 'n_estimators': 200}"
      ]
     },
     "execution_count": 24,
     "metadata": {},
     "output_type": "execute_result"
    }
   ],
   "source": [
    "from sklearn.metrics import mean_squared_error, r2_score\n",
    "from sklearn.model_selection import GridSearchCV\n",
    "from sklearn.model_selection import train_test_split\n",
    "from sklearn.ensemble import RandomForestRegressor\n",
    "\n",
    "cv_grid = GridSearchCV(RandomForestRegressor(n_jobs=-1,random_state=42),\n",
    "                       param_grid = {\n",
    "                           'max_depth' : [None,10,20],\n",
    "                           'n_estimators' : [100, 200],\n",
    "                           'max_leaf_nodes' : [None,8,16]\n",
    "                       })\n",
    "cv_grid.fit(x_train_minmax, y_train)\n",
    "cv_grid.best_params_"
   ]
  },
  {
   "cell_type": "markdown",
   "id": "f6f05bbc",
   "metadata": {
    "id": "f6f05bbc"
   },
   "source": [
    "The outputs are my optimal/best hyperparameters.\n",
    "\n",
    "I wrote value of \"None\" for both max_depth and max_leaf_nodes defaults are none (refer to the \"help\" line above). GridSearchCV is an automated way trying different combinations of parameters and finding the best one."
   ]
  },
  {
   "cell_type": "markdown",
   "id": "d74c8330",
   "metadata": {
    "id": "d74c8330"
   },
   "source": [
    "<font size = 4> Train the Model Again"
   ]
  },
  {
   "cell_type": "code",
   "execution_count": 25,
   "id": "6f2cbe46",
   "metadata": {
    "colab": {
     "base_uri": "https://localhost:8080/",
     "height": 75
    },
    "id": "6f2cbe46",
    "outputId": "328762e1-86b3-4639-8042-c74e2e3626e8"
   },
   "outputs": [
    {
     "data": {
      "text/html": [
       "<style>#sk-container-id-2 {color: black;background-color: white;}#sk-container-id-2 pre{padding: 0;}#sk-container-id-2 div.sk-toggleable {background-color: white;}#sk-container-id-2 label.sk-toggleable__label {cursor: pointer;display: block;width: 100%;margin-bottom: 0;padding: 0.3em;box-sizing: border-box;text-align: center;}#sk-container-id-2 label.sk-toggleable__label-arrow:before {content: \"▸\";float: left;margin-right: 0.25em;color: #696969;}#sk-container-id-2 label.sk-toggleable__label-arrow:hover:before {color: black;}#sk-container-id-2 div.sk-estimator:hover label.sk-toggleable__label-arrow:before {color: black;}#sk-container-id-2 div.sk-toggleable__content {max-height: 0;max-width: 0;overflow: hidden;text-align: left;background-color: #f0f8ff;}#sk-container-id-2 div.sk-toggleable__content pre {margin: 0.2em;color: black;border-radius: 0.25em;background-color: #f0f8ff;}#sk-container-id-2 input.sk-toggleable__control:checked~div.sk-toggleable__content {max-height: 200px;max-width: 100%;overflow: auto;}#sk-container-id-2 input.sk-toggleable__control:checked~label.sk-toggleable__label-arrow:before {content: \"▾\";}#sk-container-id-2 div.sk-estimator input.sk-toggleable__control:checked~label.sk-toggleable__label {background-color: #d4ebff;}#sk-container-id-2 div.sk-label input.sk-toggleable__control:checked~label.sk-toggleable__label {background-color: #d4ebff;}#sk-container-id-2 input.sk-hidden--visually {border: 0;clip: rect(1px 1px 1px 1px);clip: rect(1px, 1px, 1px, 1px);height: 1px;margin: -1px;overflow: hidden;padding: 0;position: absolute;width: 1px;}#sk-container-id-2 div.sk-estimator {font-family: monospace;background-color: #f0f8ff;border: 1px dotted black;border-radius: 0.25em;box-sizing: border-box;margin-bottom: 0.5em;}#sk-container-id-2 div.sk-estimator:hover {background-color: #d4ebff;}#sk-container-id-2 div.sk-parallel-item::after {content: \"\";width: 100%;border-bottom: 1px solid gray;flex-grow: 1;}#sk-container-id-2 div.sk-label:hover label.sk-toggleable__label {background-color: #d4ebff;}#sk-container-id-2 div.sk-serial::before {content: \"\";position: absolute;border-left: 1px solid gray;box-sizing: border-box;top: 0;bottom: 0;left: 50%;z-index: 0;}#sk-container-id-2 div.sk-serial {display: flex;flex-direction: column;align-items: center;background-color: white;padding-right: 0.2em;padding-left: 0.2em;position: relative;}#sk-container-id-2 div.sk-item {position: relative;z-index: 1;}#sk-container-id-2 div.sk-parallel {display: flex;align-items: stretch;justify-content: center;background-color: white;position: relative;}#sk-container-id-2 div.sk-item::before, #sk-container-id-2 div.sk-parallel-item::before {content: \"\";position: absolute;border-left: 1px solid gray;box-sizing: border-box;top: 0;bottom: 0;left: 50%;z-index: -1;}#sk-container-id-2 div.sk-parallel-item {display: flex;flex-direction: column;z-index: 1;position: relative;background-color: white;}#sk-container-id-2 div.sk-parallel-item:first-child::after {align-self: flex-end;width: 50%;}#sk-container-id-2 div.sk-parallel-item:last-child::after {align-self: flex-start;width: 50%;}#sk-container-id-2 div.sk-parallel-item:only-child::after {width: 0;}#sk-container-id-2 div.sk-dashed-wrapped {border: 1px dashed gray;margin: 0 0.4em 0.5em 0.4em;box-sizing: border-box;padding-bottom: 0.4em;background-color: white;}#sk-container-id-2 div.sk-label label {font-family: monospace;font-weight: bold;display: inline-block;line-height: 1.2em;}#sk-container-id-2 div.sk-label-container {text-align: center;}#sk-container-id-2 div.sk-container {/* jupyter's `normalize.less` sets `[hidden] { display: none; }` but bootstrap.min.css set `[hidden] { display: none !important; }` so we also need the `!important` here to be able to override the default hidden behavior on the sphinx rendered scikit-learn.org. See: https://github.com/scikit-learn/scikit-learn/issues/21755 */display: inline-block !important;position: relative;}#sk-container-id-2 div.sk-text-repr-fallback {display: none;}</style><div id=\"sk-container-id-2\" class=\"sk-top-container\"><div class=\"sk-text-repr-fallback\"><pre>RandomForestRegressor(n_estimators=200, random_state=42)</pre><b>In a Jupyter environment, please rerun this cell to show the HTML representation or trust the notebook. <br />On GitHub, the HTML representation is unable to render, please try loading this page with nbviewer.org.</b></div><div class=\"sk-container\" hidden><div class=\"sk-item\"><div class=\"sk-estimator sk-toggleable\"><input class=\"sk-toggleable__control sk-hidden--visually\" id=\"sk-estimator-id-2\" type=\"checkbox\" checked><label for=\"sk-estimator-id-2\" class=\"sk-toggleable__label sk-toggleable__label-arrow\">RandomForestRegressor</label><div class=\"sk-toggleable__content\"><pre>RandomForestRegressor(n_estimators=200, random_state=42)</pre></div></div></div></div></div>"
      ],
      "text/plain": [
       "RandomForestRegressor(n_estimators=200, random_state=42)"
      ]
     },
     "execution_count": 25,
     "metadata": {},
     "output_type": "execute_result"
    }
   ],
   "source": [
    "rf_reg = sklearn.ensemble.RandomForestRegressor(random_state=42,\n",
    "                                                max_depth = None,\n",
    "                                                max_leaf_nodes = None,\n",
    "                                                n_estimators = 200)\n",
    "\n",
    "rf_reg.fit(x_train_minmax,y_train)"
   ]
  },
  {
   "cell_type": "markdown",
   "id": "Y-Nq7LOD8qDB",
   "metadata": {
    "id": "Y-Nq7LOD8qDB"
   },
   "source": [
    "Here, I worte the paramenetes same as my optimal/best hyperparameters above."
   ]
  },
  {
   "cell_type": "markdown",
   "id": "6d24059b",
   "metadata": {
    "id": "6d24059b"
   },
   "source": [
    "<font size = 4>Predict the Model Again"
   ]
  },
  {
   "cell_type": "code",
   "execution_count": 26,
   "id": "ea18f5a2",
   "metadata": {
    "colab": {
     "base_uri": "https://localhost:8080/"
    },
    "id": "ea18f5a2",
    "outputId": "c2cdf499-c2be-442c-c03b-58dcb1417ac7"
   },
   "outputs": [
    {
     "data": {
      "text/plain": [
       "array([6158.695, 1471.72 , 3260.795, 3265.895, 6644.895, 6271.185,\n",
       "       1422.045, 2274.81 , 6000.23 , 5676.74 , 1690.355, 2557.995,\n",
       "       4237.97 , 4896.425, 1808.4  , 1325.065, 1805.995, 6749.105,\n",
       "       4014.785, 2043.585, 6354.765, 5049.125, 4599.835, 1615.235,\n",
       "       1610.92 , 4043.465, 1681.8  , 6273.18 , 3134.455, 4695.3  ,\n",
       "       2176.835, 3408.73 , 5319.67 , 6010.15 , 5097.635, 3917.83 ,\n",
       "       6185.625, 4135.145, 2969.035,  879.275, 2797.89 , 3092.13 ,\n",
       "       6099.82 , 3133.875, 5927.54 , 2185.675, 3523.76 , 4726.095,\n",
       "       3982.74 , 3556.89 , 2624.625, 2433.915, 1569.255, 2812.495,\n",
       "       3964.73 , 3463.53 , 3627.105, 2557.83 , 2666.635, 5671.54 ,\n",
       "       5079.23 , 5857.825, 1718.645, 4524.72 , 5769.14 , 5489.115,\n",
       "       4321.585, 2793.445, 1155.845, 4940.075, 2146.76 , 1448.675,\n",
       "       3140.425, 2760.19 , 4053.55 , 2755.48 , 4695.19 , 3792.53 ,\n",
       "       1315.335, 3554.905, 2392.2  , 1862.91 , 4713.395, 4090.25 ,\n",
       "       3438.475, 2941.85 , 3160.02 , 2614.075, 3386.865, 3212.81 ,\n",
       "       1258.69 , 5889.125, 4963.88 , 4872.365, 2569.66 , 1985.745,\n",
       "       3914.595, 2630.565, 2836.77 , 3829.555, 6292.035, 2632.71 ,\n",
       "       5646.085, 1416.335, 1858.205, 4883.885, 2191.615, 2303.685,\n",
       "       5348.325, 1225.94 , 3580.33 , 6317.   , 3346.585, 6558.12 ,\n",
       "       4833.585, 2770.285, 1576.56 , 3332.67 , 3151.43 , 2355.245,\n",
       "       5228.955, 2210.555, 2369.62 , 1399.585, 3763.385, 4938.455,\n",
       "       3522.505, 2545.195, 1793.205, 3800.155, 2606.7  , 3677.495,\n",
       "       4827.075, 4996.375, 4188.34 , 1729.025, 4980.8  , 4608.26 ,\n",
       "       1712.84 , 3730.45 , 3886.175, 1951.425, 1332.55 , 3626.34 ,\n",
       "       3454.33 , 4276.735, 3769.75 ])"
      ]
     },
     "execution_count": 26,
     "metadata": {},
     "output_type": "execute_result"
    }
   ],
   "source": [
    "pred = rf_reg.predict(x_test_minmax)\n",
    "pred"
   ]
  },
  {
   "cell_type": "markdown",
   "id": "1d79d739",
   "metadata": {
    "id": "1d79d739"
   },
   "source": [
    "<font size = 4> Evaluate the Model Again"
   ]
  },
  {
   "cell_type": "code",
   "execution_count": 27,
   "id": "02aa0dbc",
   "metadata": {
    "colab": {
     "base_uri": "https://localhost:8080/"
    },
    "id": "02aa0dbc",
    "outputId": "d92624f9-e72b-4109-cb18-0d8fd8cceee4"
   },
   "outputs": [
    {
     "name": "stdout",
     "output_type": "stream",
     "text": [
      "R2: 0.8849825545335496\n",
      "MSE: 315282.7241054422\n",
      "Square Root of MSE: 561.500422177439\n"
     ]
    }
   ],
   "source": [
    "rf_reg_r2 = sklearn.metrics.r2_score(y_test, pred)\n",
    "print('R2:', format(rf_reg_r2))\n",
    "\n",
    "rf_reg_mse = sklearn.metrics.mean_squared_error(y_test, pred)\n",
    "print('MSE:', format(rf_reg_mse))\n",
    "\n",
    "print('Square Root of MSE:', np.sqrt(rf_reg_mse))"
   ]
  },
  {
   "cell_type": "markdown",
   "id": "fc35bb6d",
   "metadata": {
    "id": "fc35bb6d"
   },
   "source": [
    "Before the cross-validation, my result was as follows:\n",
    "<br>R2: 0.8838\n",
    "<br>MSE: 318446.16\n",
    "<br>Square Root of MSE: 564.31\n",
    "\n",
    "Improvement after the Hyperparameter Tuning: %0.9933\n",
    "\n",
    "Now, my model slightly improved.  Which means the model has a better fit to the data and is able to capture and explain a significant amount of the variation in the target variable. There is a low probability that a good prediction is just a coincidence.\n",
    "<br>R2 got higher and MSE got lower a little which means it is more accurate now.\n",
    "\n",
    "Based on the result, I can compare with the target values. The accuracy is %87.5332.\n",
    "\n",
    "Accuracy = ((Mean of the target value - Square root of MSE)*100)/(Mean of target value)"
   ]
  },
  {
   "cell_type": "markdown",
   "id": "b037833f",
   "metadata": {
    "id": "b037833f"
   },
   "source": [
    "<font size = 4> Feature Importance"
   ]
  },
  {
   "cell_type": "code",
   "execution_count": 28,
   "id": "3afdf14a",
   "metadata": {
    "colab": {
     "base_uri": "https://localhost:8080/"
    },
    "id": "3afdf14a",
    "outputId": "1a514c13-4c74-4c5b-d6b8-0148a7d86efa"
   },
   "outputs": [
    {
     "data": {
      "text/plain": [
       "array([0.0754928 , 0.33121753, 0.08817654, 0.00344953, 0.01294845,\n",
       "       0.07525639, 0.01703107, 0.18441583, 0.12792191, 0.05412581,\n",
       "       0.02996413])"
      ]
     },
     "execution_count": 28,
     "metadata": {},
     "output_type": "execute_result"
    }
   ],
   "source": [
    "rf_reg.feature_importances_"
   ]
  },
  {
   "cell_type": "code",
   "execution_count": 29,
   "id": "0dac0499",
   "metadata": {
    "colab": {
     "base_uri": "https://localhost:8080/",
     "height": 448
    },
    "id": "0dac0499",
    "outputId": "2230b35a-dc44-4cf4-fc54-80e56e85ab81"
   },
   "outputs": [
    {
     "data": {
      "text/plain": [
       "<BarContainer object of 11 artists>"
      ]
     },
     "execution_count": 29,
     "metadata": {},
     "output_type": "execute_result"
    },
    {
     "data": {
      "image/png": "[encoded data removed]",
      "text/plain": [
       "<Figure size 640x480 with 1 Axes>"
      ]
     },
     "metadata": {},
     "output_type": "display_data"
    }
   ],
   "source": [
    "plt.barh(X.columns, rf_reg.feature_importances_)"
   ]
  },
  {
   "cell_type": "markdown",
   "id": "a34ead9f",
   "metadata": {
    "id": "a34ead9f"
   },
   "source": [
    "Here, we can see which variables more important for my model. Temperature and year are the most important variables.\n",
    "\n",
    "\n",
    "Also, all of these variables have different scales for all the variables (refer the \"description\" line above. For example, \"Registered\" is up around 100, \"Casual\" is in hundreds, \"Instant\" is also relatively high."
   ]
  },
  {
   "cell_type": "markdown",
   "id": "7a014959",
   "metadata": {
    "id": "7a014959"
   },
   "source": [
    "<font size = 5> XGBoost"
   ]
  },
  {
   "cell_type": "code",
   "execution_count": 30,
   "id": "8fc5af44",
   "metadata": {
    "id": "8fc5af44"
   },
   "outputs": [],
   "source": [
    "import xgboost as xgb"
   ]
  },
  {
   "cell_type": "markdown",
   "id": "ca99bfbb",
   "metadata": {},
   "source": [
    "<font size=4>Train the Model"
   ]
  },
  {
   "cell_type": "code",
   "execution_count": 31,
   "id": "968c2fb9",
   "metadata": {
    "id": "968c2fb9"
   },
   "outputs": [],
   "source": [
    "xg_reg = xgb.XGBRegressor(objective ='reg:squarederror',\n",
    "                          learning_rate = 0.01,\n",
    "                          max_depth = 5)\n"
   ]
  },
  {
   "cell_type": "markdown",
   "id": "6734ddeb",
   "metadata": {
    "id": "6734ddeb"
   },
   "source": [
    "The values inside () above are my hyperparameters. I tried different values for these parameters. learning_rate = 0.01, max_depth = 5 are ended up better than the others experiments."
   ]
  },
  {
   "cell_type": "code",
   "execution_count": 32,
   "id": "1626caf7",
   "metadata": {
    "colab": {
     "base_uri": "https://localhost:8080/",
     "height": 248
    },
    "id": "1626caf7",
    "outputId": "7b069f28-15d7-4701-8c0f-6f71d35acc4a"
   },
   "outputs": [
    {
     "data": {
      "text/html": [
       "<style>#sk-container-id-3 {color: black;background-color: white;}#sk-container-id-3 pre{padding: 0;}#sk-container-id-3 div.sk-toggleable {background-color: white;}#sk-container-id-3 label.sk-toggleable__label {cursor: pointer;display: block;width: 100%;margin-bottom: 0;padding: 0.3em;box-sizing: border-box;text-align: center;}#sk-container-id-3 label.sk-toggleable__label-arrow:before {content: \"▸\";float: left;margin-right: 0.25em;color: #696969;}#sk-container-id-3 label.sk-toggleable__label-arrow:hover:before {color: black;}#sk-container-id-3 div.sk-estimator:hover label.sk-toggleable__label-arrow:before {color: black;}#sk-container-id-3 div.sk-toggleable__content {max-height: 0;max-width: 0;overflow: hidden;text-align: left;background-color: #f0f8ff;}#sk-container-id-3 div.sk-toggleable__content pre {margin: 0.2em;color: black;border-radius: 0.25em;background-color: #f0f8ff;}#sk-container-id-3 input.sk-toggleable__control:checked~div.sk-toggleable__content {max-height: 200px;max-width: 100%;overflow: auto;}#sk-container-id-3 input.sk-toggleable__control:checked~label.sk-toggleable__label-arrow:before {content: \"▾\";}#sk-container-id-3 div.sk-estimator input.sk-toggleable__control:checked~label.sk-toggleable__label {background-color: #d4ebff;}#sk-container-id-3 div.sk-label input.sk-toggleable__control:checked~label.sk-toggleable__label {background-color: #d4ebff;}#sk-container-id-3 input.sk-hidden--visually {border: 0;clip: rect(1px 1px 1px 1px);clip: rect(1px, 1px, 1px, 1px);height: 1px;margin: -1px;overflow: hidden;padding: 0;position: absolute;width: 1px;}#sk-container-id-3 div.sk-estimator {font-family: monospace;background-color: #f0f8ff;border: 1px dotted black;border-radius: 0.25em;box-sizing: border-box;margin-bottom: 0.5em;}#sk-container-id-3 div.sk-estimator:hover {background-color: #d4ebff;}#sk-container-id-3 div.sk-parallel-item::after {content: \"\";width: 100%;border-bottom: 1px solid gray;flex-grow: 1;}#sk-container-id-3 div.sk-label:hover label.sk-toggleable__label {background-color: #d4ebff;}#sk-container-id-3 div.sk-serial::before {content: \"\";position: absolute;border-left: 1px solid gray;box-sizing: border-box;top: 0;bottom: 0;left: 50%;z-index: 0;}#sk-container-id-3 div.sk-serial {display: flex;flex-direction: column;align-items: center;background-color: white;padding-right: 0.2em;padding-left: 0.2em;position: relative;}#sk-container-id-3 div.sk-item {position: relative;z-index: 1;}#sk-container-id-3 div.sk-parallel {display: flex;align-items: stretch;justify-content: center;background-color: white;position: relative;}#sk-container-id-3 div.sk-item::before, #sk-container-id-3 div.sk-parallel-item::before {content: \"\";position: absolute;border-left: 1px solid gray;box-sizing: border-box;top: 0;bottom: 0;left: 50%;z-index: -1;}#sk-container-id-3 div.sk-parallel-item {display: flex;flex-direction: column;z-index: 1;position: relative;background-color: white;}#sk-container-id-3 div.sk-parallel-item:first-child::after {align-self: flex-end;width: 50%;}#sk-container-id-3 div.sk-parallel-item:last-child::after {align-self: flex-start;width: 50%;}#sk-container-id-3 div.sk-parallel-item:only-child::after {width: 0;}#sk-container-id-3 div.sk-dashed-wrapped {border: 1px dashed gray;margin: 0 0.4em 0.5em 0.4em;box-sizing: border-box;padding-bottom: 0.4em;background-color: white;}#sk-container-id-3 div.sk-label label {font-family: monospace;font-weight: bold;display: inline-block;line-height: 1.2em;}#sk-container-id-3 div.sk-label-container {text-align: center;}#sk-container-id-3 div.sk-container {/* jupyter's `normalize.less` sets `[hidden] { display: none; }` but bootstrap.min.css set `[hidden] { display: none !important; }` so we also need the `!important` here to be able to override the default hidden behavior on the sphinx rendered scikit-learn.org. See: https://github.com/scikit-learn/scikit-learn/issues/21755 */display: inline-block !important;position: relative;}#sk-container-id-3 div.sk-text-repr-fallback {display: none;}</style><div id=\"sk-container-id-3\" class=\"sk-top-container\"><div class=\"sk-text-repr-fallback\"><pre>XGBRegressor(base_score=None, booster=None, callbacks=None,\n",
       "             colsample_bylevel=None, colsample_bynode=None,\n",
       "             colsample_bytree=None, early_stopping_rounds=None,\n",
       "             enable_categorical=False, eval_metric=None, feature_types=None,\n",
       "             gamma=None, gpu_id=None, grow_policy=None, importance_type=None,\n",
       "             interaction_constraints=None, learning_rate=0.01, max_bin=None,\n",
       "             max_cat_threshold=None, max_cat_to_onehot=None,\n",
       "             max_delta_step=None, max_depth=5, max_leaves=None,\n",
       "             min_child_weight=None, missing=nan, monotone_constraints=None,\n",
       "             n_estimators=100, n_jobs=None, num_parallel_tree=None,\n",
       "             predictor=None, random_state=None, ...)</pre><b>In a Jupyter environment, please rerun this cell to show the HTML representation or trust the notebook. <br />On GitHub, the HTML representation is unable to render, please try loading this page with nbviewer.org.</b></div><div class=\"sk-container\" hidden><div class=\"sk-item\"><div class=\"sk-estimator sk-toggleable\"><input class=\"sk-toggleable__control sk-hidden--visually\" id=\"sk-estimator-id-3\" type=\"checkbox\" checked><label for=\"sk-estimator-id-3\" class=\"sk-toggleable__label sk-toggleable__label-arrow\">XGBRegressor</label><div class=\"sk-toggleable__content\"><pre>XGBRegressor(base_score=None, booster=None, callbacks=None,\n",
       "             colsample_bylevel=None, colsample_bynode=None,\n",
       "             colsample_bytree=None, early_stopping_rounds=None,\n",
       "             enable_categorical=False, eval_metric=None, feature_types=None,\n",
       "             gamma=None, gpu_id=None, grow_policy=None, importance_type=None,\n",
       "             interaction_constraints=None, learning_rate=0.01, max_bin=None,\n",
       "             max_cat_threshold=None, max_cat_to_onehot=None,\n",
       "             max_delta_step=None, max_depth=5, max_leaves=None,\n",
       "             min_child_weight=None, missing=nan, monotone_constraints=None,\n",
       "             n_estimators=100, n_jobs=None, num_parallel_tree=None,\n",
       "             predictor=None, random_state=None, ...)</pre></div></div></div></div></div>"
      ],
      "text/plain": [
       "XGBRegressor(base_score=None, booster=None, callbacks=None,\n",
       "             colsample_bylevel=None, colsample_bynode=None,\n",
       "             colsample_bytree=None, early_stopping_rounds=None,\n",
       "             enable_categorical=False, eval_metric=None, feature_types=None,\n",
       "             gamma=None, gpu_id=None, grow_policy=None, importance_type=None,\n",
       "             interaction_constraints=None, learning_rate=0.01, max_bin=None,\n",
       "             max_cat_threshold=None, max_cat_to_onehot=None,\n",
       "             max_delta_step=None, max_depth=5, max_leaves=None,\n",
       "             min_child_weight=None, missing=nan, monotone_constraints=None,\n",
       "             n_estimators=100, n_jobs=None, num_parallel_tree=None,\n",
       "             predictor=None, random_state=None, ...)"
      ]
     },
     "execution_count": 32,
     "metadata": {},
     "output_type": "execute_result"
    }
   ],
   "source": [
    "xg_reg.fit(x_train_minmax,y_train)"
   ]
  },
  {
   "cell_type": "markdown",
   "id": "NRbGaKqVABoT",
   "metadata": {
    "id": "NRbGaKqVABoT"
   },
   "source": [
    "In this table, we can see the model details and the options here."
   ]
  },
  {
   "cell_type": "markdown",
   "id": "f5233e4b",
   "metadata": {
    "id": "f5233e4b"
   },
   "source": [
    "<font size = 4>Predict the Model"
   ]
  },
  {
   "cell_type": "code",
   "execution_count": 33,
   "id": "cd6f3d6c",
   "metadata": {
    "id": "cd6f3d6c"
   },
   "outputs": [],
   "source": [
    "preds = xg_reg.predict(x_test_minmax)"
   ]
  },
  {
   "cell_type": "markdown",
   "id": "96d66b50",
   "metadata": {
    "id": "96d66b50"
   },
   "source": [
    "<font size = 4>Evaluate the Model"
   ]
  },
  {
   "cell_type": "code",
   "execution_count": 34,
   "id": "e2f34de6",
   "metadata": {
    "colab": {
     "base_uri": "https://localhost:8080/"
    },
    "id": "e2f34de6",
    "outputId": "2026595b-31bb-4331-ded5-dc0e6670be81"
   },
   "outputs": [
    {
     "name": "stdout",
     "output_type": "stream",
     "text": [
      "R2: 0.12882665054355058\n",
      "RMSE: 2388036.924927\n",
      "Square Root of RMSE: 1545.327449\n"
     ]
    }
   ],
   "source": [
    "test_score = xg_reg.score(x_test_minmax, y_test)\n",
    "print(f\"R2: {test_score}\")\n",
    "\n",
    "rmse = (mean_squared_error(y_test, preds))\n",
    "print(\"RMSE: %f\" % (rmse))\n",
    "\n",
    "rmse = np.sqrt(mean_squared_error(y_test, preds))\n",
    "print(\"Square Root of RMSE: %f\" % (rmse))"
   ]
  },
  {
   "cell_type": "markdown",
   "id": "41e83d70",
   "metadata": {
    "id": "41e83d70"
   },
   "source": [
    "R2 is very low, MSE is very high. Based on the result, I can compare with the target values. The accuracy is %65.69, very low.\n",
    "\n",
    "I can improve by doing cross-validation and searching for a better set of hyperparameters."
   ]
  },
  {
   "cell_type": "markdown",
   "id": "1dc8e3d0",
   "metadata": {
    "id": "1dc8e3d0"
   },
   "source": [
    "<font size = 4> Cross-Validation"
   ]
  },
  {
   "cell_type": "code",
   "execution_count": 35,
   "id": "eb9e16da",
   "metadata": {
    "colab": {
     "base_uri": "https://localhost:8080/"
    },
    "id": "eb9e16da",
    "outputId": "56eca55d-4035-468a-eac9-4eeb13d2a929"
   },
   "outputs": [
    {
     "name": "stdout",
     "output_type": "stream",
     "text": [
      "0.1 3 99    554.858399\n",
      "Name: test-rmse-mean, dtype: float64\n",
      "0.1 10 99    642.901841\n",
      "Name: test-rmse-mean, dtype: float64\n",
      "0.2 3 55    556.834068\n",
      "Name: test-rmse-mean, dtype: float64\n",
      "0.2 10 62    700.429867\n",
      "Name: test-rmse-mean, dtype: float64\n",
      "0.3 3 41    563.600833\n",
      "Name: test-rmse-mean, dtype: float64\n",
      "0.3 10 42    762.646036\n",
      "Name: test-rmse-mean, dtype: float64\n"
     ]
    }
   ],
   "source": [
    "#Use DMatrices of XGBoost\n",
    "data_dmatrix_train = xgb.DMatrix(data=x_train_minmax,\n",
    "                                 label=y_train)\n",
    "data_dmatrix_test = xgb.DMatrix(data=x_test_minmax,\n",
    "                                label=y_test)\n",
    "\n",
    "for lr in [0.1, 0.2, 0.3]:\n",
    "    for md in [3, 10]:\n",
    "\n",
    "        params = {\"objective\":\"reg:squarederror\",\n",
    "                  'colsample_bytree': 0.3,\n",
    "                  'learning_rate': lr,\n",
    "                  'max_depth': md,\n",
    "                  'alpha': 10}\n",
    "\n",
    "        cv_results = xgb.cv(dtrain=data_dmatrix_train,\n",
    "                            params=params,\n",
    "                            nfold=3,\n",
    "                            num_boost_round=100,\n",
    "                            early_stopping_rounds=10,\n",
    "                            metrics=\"rmse\",\n",
    "                            as_pandas=True,\n",
    "                            seed=123)\n",
    "        print(lr,md,(cv_results[\"test-rmse-mean\"]).tail(1))"
   ]
  },
  {
   "cell_type": "markdown",
   "id": "0da15a26",
   "metadata": {
    "id": "0da15a26"
   },
   "source": [
    "Parameters:\n",
    "nfold = 3 means the data will be split into 3 folds.\n",
    "num_boost_round = 100 means MSE gets lower and lower up to 100 tree.\n",
    "early_stopping_rounds = 10 means if the performance of the model does not improve for 10 consecutive rounds, the training will be stopped.\n",
    "\n",
    "\n",
    "Here, I am comparing different values of hyperparameters against each other to see which one gives us the best result of MSE.\n",
    "\n",
    "The first one which is 554.85 is the best MSE for this particular set. learning_rate = 0.1 and max_depth = 3.\n",
    "\n"
   ]
  },
  {
   "cell_type": "code",
   "execution_count": 36,
   "id": "Y5RmLz7jD_50",
   "metadata": {
    "colab": {
     "base_uri": "https://localhost:8080/"
    },
    "id": "Y5RmLz7jD_50",
    "outputId": "581610c2-393f-419d-e456-9992c8aa34b1"
   },
   "outputs": [
    {
     "data": {
      "text/plain": [
       "38    763.307725\n",
       "39    763.162052\n",
       "40    763.136585\n",
       "41    762.810426\n",
       "42    762.646036\n",
       "Name: test-rmse-mean, dtype: float64"
      ]
     },
     "execution_count": 36,
     "metadata": {},
     "output_type": "execute_result"
    }
   ],
   "source": [
    "cv_results[\"test-rmse-mean\"].tail()"
   ]
  },
  {
   "cell_type": "markdown",
   "id": "5855275b",
   "metadata": {},
   "source": [
    "<font size = 4> Train the Model Again"
   ]
  },
  {
   "cell_type": "code",
   "execution_count": 37,
   "id": "1617ae43",
   "metadata": {
    "id": "1617ae43"
   },
   "outputs": [],
   "source": [
    "xg_reg = xgb.XGBRegressor(objective ='reg:squarederror', learning_rate = 0.1,\n",
    "                          max_depth = 3)"
   ]
  },
  {
   "cell_type": "markdown",
   "id": "EdHpld56EbWu",
   "metadata": {
    "id": "EdHpld56EbWu"
   },
   "source": [
    "I wrote learning_rate = 0.1 and max_depth = 3 because they are my best hyperparameters that is shown above."
   ]
  },
  {
   "cell_type": "code",
   "execution_count": 38,
   "id": "d129e5e5",
   "metadata": {
    "colab": {
     "base_uri": "https://localhost:8080/",
     "height": 248
    },
    "id": "d129e5e5",
    "outputId": "d53b59a8-7744-4f86-80bd-1aca084d9c87"
   },
   "outputs": [
    {
     "data": {
      "text/html": [
       "<style>#sk-container-id-4 {color: black;background-color: white;}#sk-container-id-4 pre{padding: 0;}#sk-container-id-4 div.sk-toggleable {background-color: white;}#sk-container-id-4 label.sk-toggleable__label {cursor: pointer;display: block;width: 100%;margin-bottom: 0;padding: 0.3em;box-sizing: border-box;text-align: center;}#sk-container-id-4 label.sk-toggleable__label-arrow:before {content: \"▸\";float: left;margin-right: 0.25em;color: #696969;}#sk-container-id-4 label.sk-toggleable__label-arrow:hover:before {color: black;}#sk-container-id-4 div.sk-estimator:hover label.sk-toggleable__label-arrow:before {color: black;}#sk-container-id-4 div.sk-toggleable__content {max-height: 0;max-width: 0;overflow: hidden;text-align: left;background-color: #f0f8ff;}#sk-container-id-4 div.sk-toggleable__content pre {margin: 0.2em;color: black;border-radius: 0.25em;background-color: #f0f8ff;}#sk-container-id-4 input.sk-toggleable__control:checked~div.sk-toggleable__content {max-height: 200px;max-width: 100%;overflow: auto;}#sk-container-id-4 input.sk-toggleable__control:checked~label.sk-toggleable__label-arrow:before {content: \"▾\";}#sk-container-id-4 div.sk-estimator input.sk-toggleable__control:checked~label.sk-toggleable__label {background-color: #d4ebff;}#sk-container-id-4 div.sk-label input.sk-toggleable__control:checked~label.sk-toggleable__label {background-color: #d4ebff;}#sk-container-id-4 input.sk-hidden--visually {border: 0;clip: rect(1px 1px 1px 1px);clip: rect(1px, 1px, 1px, 1px);height: 1px;margin: -1px;overflow: hidden;padding: 0;position: absolute;width: 1px;}#sk-container-id-4 div.sk-estimator {font-family: monospace;background-color: #f0f8ff;border: 1px dotted black;border-radius: 0.25em;box-sizing: border-box;margin-bottom: 0.5em;}#sk-container-id-4 div.sk-estimator:hover {background-color: #d4ebff;}#sk-container-id-4 div.sk-parallel-item::after {content: \"\";width: 100%;border-bottom: 1px solid gray;flex-grow: 1;}#sk-container-id-4 div.sk-label:hover label.sk-toggleable__label {background-color: #d4ebff;}#sk-container-id-4 div.sk-serial::before {content: \"\";position: absolute;border-left: 1px solid gray;box-sizing: border-box;top: 0;bottom: 0;left: 50%;z-index: 0;}#sk-container-id-4 div.sk-serial {display: flex;flex-direction: column;align-items: center;background-color: white;padding-right: 0.2em;padding-left: 0.2em;position: relative;}#sk-container-id-4 div.sk-item {position: relative;z-index: 1;}#sk-container-id-4 div.sk-parallel {display: flex;align-items: stretch;justify-content: center;background-color: white;position: relative;}#sk-container-id-4 div.sk-item::before, #sk-container-id-4 div.sk-parallel-item::before {content: \"\";position: absolute;border-left: 1px solid gray;box-sizing: border-box;top: 0;bottom: 0;left: 50%;z-index: -1;}#sk-container-id-4 div.sk-parallel-item {display: flex;flex-direction: column;z-index: 1;position: relative;background-color: white;}#sk-container-id-4 div.sk-parallel-item:first-child::after {align-self: flex-end;width: 50%;}#sk-container-id-4 div.sk-parallel-item:last-child::after {align-self: flex-start;width: 50%;}#sk-container-id-4 div.sk-parallel-item:only-child::after {width: 0;}#sk-container-id-4 div.sk-dashed-wrapped {border: 1px dashed gray;margin: 0 0.4em 0.5em 0.4em;box-sizing: border-box;padding-bottom: 0.4em;background-color: white;}#sk-container-id-4 div.sk-label label {font-family: monospace;font-weight: bold;display: inline-block;line-height: 1.2em;}#sk-container-id-4 div.sk-label-container {text-align: center;}#sk-container-id-4 div.sk-container {/* jupyter's `normalize.less` sets `[hidden] { display: none; }` but bootstrap.min.css set `[hidden] { display: none !important; }` so we also need the `!important` here to be able to override the default hidden behavior on the sphinx rendered scikit-learn.org. See: https://github.com/scikit-learn/scikit-learn/issues/21755 */display: inline-block !important;position: relative;}#sk-container-id-4 div.sk-text-repr-fallback {display: none;}</style><div id=\"sk-container-id-4\" class=\"sk-top-container\"><div class=\"sk-text-repr-fallback\"><pre>XGBRegressor(base_score=None, booster=None, callbacks=None,\n",
       "             colsample_bylevel=None, colsample_bynode=None,\n",
       "             colsample_bytree=None, early_stopping_rounds=None,\n",
       "             enable_categorical=False, eval_metric=None, feature_types=None,\n",
       "             gamma=None, gpu_id=None, grow_policy=None, importance_type=None,\n",
       "             interaction_constraints=None, learning_rate=0.1, max_bin=None,\n",
       "             max_cat_threshold=None, max_cat_to_onehot=None,\n",
       "             max_delta_step=None, max_depth=3, max_leaves=None,\n",
       "             min_child_weight=None, missing=nan, monotone_constraints=None,\n",
       "             n_estimators=100, n_jobs=None, num_parallel_tree=None,\n",
       "             predictor=None, random_state=None, ...)</pre><b>In a Jupyter environment, please rerun this cell to show the HTML representation or trust the notebook. <br />On GitHub, the HTML representation is unable to render, please try loading this page with nbviewer.org.</b></div><div class=\"sk-container\" hidden><div class=\"sk-item\"><div class=\"sk-estimator sk-toggleable\"><input class=\"sk-toggleable__control sk-hidden--visually\" id=\"sk-estimator-id-4\" type=\"checkbox\" checked><label for=\"sk-estimator-id-4\" class=\"sk-toggleable__label sk-toggleable__label-arrow\">XGBRegressor</label><div class=\"sk-toggleable__content\"><pre>XGBRegressor(base_score=None, booster=None, callbacks=None,\n",
       "             colsample_bylevel=None, colsample_bynode=None,\n",
       "             colsample_bytree=None, early_stopping_rounds=None,\n",
       "             enable_categorical=False, eval_metric=None, feature_types=None,\n",
       "             gamma=None, gpu_id=None, grow_policy=None, importance_type=None,\n",
       "             interaction_constraints=None, learning_rate=0.1, max_bin=None,\n",
       "             max_cat_threshold=None, max_cat_to_onehot=None,\n",
       "             max_delta_step=None, max_depth=3, max_leaves=None,\n",
       "             min_child_weight=None, missing=nan, monotone_constraints=None,\n",
       "             n_estimators=100, n_jobs=None, num_parallel_tree=None,\n",
       "             predictor=None, random_state=None, ...)</pre></div></div></div></div></div>"
      ],
      "text/plain": [
       "XGBRegressor(base_score=None, booster=None, callbacks=None,\n",
       "             colsample_bylevel=None, colsample_bynode=None,\n",
       "             colsample_bytree=None, early_stopping_rounds=None,\n",
       "             enable_categorical=False, eval_metric=None, feature_types=None,\n",
       "             gamma=None, gpu_id=None, grow_policy=None, importance_type=None,\n",
       "             interaction_constraints=None, learning_rate=0.1, max_bin=None,\n",
       "             max_cat_threshold=None, max_cat_to_onehot=None,\n",
       "             max_delta_step=None, max_depth=3, max_leaves=None,\n",
       "             min_child_weight=None, missing=nan, monotone_constraints=None,\n",
       "             n_estimators=100, n_jobs=None, num_parallel_tree=None,\n",
       "             predictor=None, random_state=None, ...)"
      ]
     },
     "execution_count": 38,
     "metadata": {},
     "output_type": "execute_result"
    }
   ],
   "source": [
    "xg_reg.fit(x_train_minmax,y_train)"
   ]
  },
  {
   "cell_type": "markdown",
   "id": "URF6aPATC9pD",
   "metadata": {
    "id": "URF6aPATC9pD"
   },
   "source": [
    "We can see the model details and the options here again."
   ]
  },
  {
   "cell_type": "markdown",
   "id": "22d96a5d",
   "metadata": {
    "id": "22d96a5d"
   },
   "source": [
    "<font size = 4> Predict the Model Again"
   ]
  },
  {
   "cell_type": "code",
   "execution_count": 39,
   "id": "ce601d2f",
   "metadata": {
    "id": "ce601d2f"
   },
   "outputs": [],
   "source": [
    "#Get the predicted class probabilities\n",
    "preds = xg_reg.predict(x_test_minmax)"
   ]
  },
  {
   "cell_type": "markdown",
   "id": "9a25d8d9",
   "metadata": {
    "id": "9a25d8d9"
   },
   "source": [
    "<font size = 4> Evaluate the Model Again"
   ]
  },
  {
   "cell_type": "code",
   "execution_count": 40,
   "id": "804152a5",
   "metadata": {
    "colab": {
     "base_uri": "https://localhost:8080/"
    },
    "id": "804152a5",
    "outputId": "a0c4f276-3574-444f-ba18-fba20f1c5c98"
   },
   "outputs": [
    {
     "name": "stdout",
     "output_type": "stream",
     "text": [
      "R2: 0.890129148834796\n",
      "RMSE: 301175.0184040857\n",
      "Square Root of RMSE: 548.794149\n"
     ]
    }
   ],
   "source": [
    "test_score = xg_reg.score(x_test_minmax, y_test)\n",
    "print(f\"R2: {test_score}\")\n",
    "\n",
    "print(f\"RMSE: {mean_squared_error(y_test, preds)}\")\n",
    "\n",
    "rmse = np.sqrt(mean_squared_error(y_test, preds))\n",
    "print(\"Square Root of RMSE: %f\" % (rmse))"
   ]
  },
  {
   "cell_type": "markdown",
   "id": "54dc9643",
   "metadata": {
    "id": "54dc9643"
   },
   "source": [
    "Before the cross-validation, the score was as follows:\n",
    "<br>R2: 0.1288\n",
    "<br>RMSE: 2388036.92\n",
    "<br>Square Root of RMSE: 1545.32\n",
    "\n",
    "Improvement after the cross-validation: %87.38\n",
    "\n",
    "Now, my R2 went so much higher and Square Root of RMSE got so much lower. That means my model predicts much better now.\n",
    "\n",
    "Based on the result, I can compare with the target values. The accuracy is %87.8155.\n",
    "\n",
    "Accuracy = ((Mean of the target value - Square root of MSE)*100)/(Mean of target value)\n"
   ]
  },
  {
   "cell_type": "markdown",
   "id": "34795058",
   "metadata": {
    "id": "34795058"
   },
   "source": [
    "<font size = 4> Feature Importance"
   ]
  },
  {
   "cell_type": "code",
   "execution_count": 41,
   "id": "534fcb71",
   "metadata": {
    "colab": {
     "base_uri": "https://localhost:8080/",
     "height": 472
    },
    "id": "534fcb71",
    "outputId": "dbc64cc4-0c8f-4fae-c797-7e2e92eb3aff"
   },
   "outputs": [
    {
     "data": {
      "image/png": "[encoded data removed]",
      "text/plain": [
       "<Figure size 640x480 with 1 Axes>"
      ]
     },
     "metadata": {},
     "output_type": "display_data"
    }
   ],
   "source": [
    "xgb.plot_importance(xg_reg)\n",
    "plt.show()"
   ]
  },
  {
   "cell_type": "markdown",
   "id": "BLftmAdzGK3h",
   "metadata": {
    "id": "BLftmAdzGK3h"
   },
   "source": [
    "Here, we can see the important variables that affects my model the most. f variables are the columns of my dataset, refer to the table below.\n",
    "\n",
    "f0: season\n",
    "f1: yr\n",
    "f2: mnth\n",
    "f3: holiday\n",
    "f4: weekday\n",
    "f5: workingday\n",
    "f6: weathersit\n",
    "f7: temp\n",
    "f8: atemp\n",
    "f9: hum\n",
    "f10: windspeed"
   ]
  },
  {
   "cell_type": "code",
   "execution_count": 42,
   "id": "3P3eN4bpFlJU",
   "metadata": {
    "colab": {
     "base_uri": "https://localhost:8080/",
     "height": 206
    },
    "id": "3P3eN4bpFlJU",
    "outputId": "2b321c2b-de6c-4baf-8182-82043592a6d3"
   },
   "outputs": [
    {
     "data": {
      "text/html": [
       "<div>\n",
       "<style scoped>\n",
       "    .dataframe tbody tr th:only-of-type {\n",
       "        vertical-align: middle;\n",
       "    }\n",
       "\n",
       "    .dataframe tbody tr th {\n",
       "        vertical-align: top;\n",
       "    }\n",
       "\n",
       "    .dataframe thead th {\n",
       "        text-align: right;\n",
       "    }\n",
       "</style>\n",
       "<table border=\"1\" class=\"dataframe\">\n",
       "  <thead>\n",
       "    <tr style=\"text-align: right;\">\n",
       "      <th></th>\n",
       "      <th>season</th>\n",
       "      <th>yr</th>\n",
       "      <th>mnth</th>\n",
       "      <th>holiday</th>\n",
       "      <th>weekday</th>\n",
       "      <th>workingday</th>\n",
       "      <th>weathersit</th>\n",
       "      <th>temp</th>\n",
       "      <th>atemp</th>\n",
       "      <th>hum</th>\n",
       "      <th>windspeed</th>\n",
       "    </tr>\n",
       "  </thead>\n",
       "  <tbody>\n",
       "    <tr>\n",
       "      <th>0</th>\n",
       "      <td>1</td>\n",
       "      <td>0</td>\n",
       "      <td>1</td>\n",
       "      <td>0</td>\n",
       "      <td>6</td>\n",
       "      <td>0</td>\n",
       "      <td>2</td>\n",
       "      <td>14.110847</td>\n",
       "      <td>18.18125</td>\n",
       "      <td>80.5833</td>\n",
       "      <td>10.749882</td>\n",
       "    </tr>\n",
       "    <tr>\n",
       "      <th>1</th>\n",
       "      <td>1</td>\n",
       "      <td>0</td>\n",
       "      <td>1</td>\n",
       "      <td>0</td>\n",
       "      <td>0</td>\n",
       "      <td>0</td>\n",
       "      <td>2</td>\n",
       "      <td>14.902598</td>\n",
       "      <td>17.68695</td>\n",
       "      <td>69.6087</td>\n",
       "      <td>16.652113</td>\n",
       "    </tr>\n",
       "    <tr>\n",
       "      <th>2</th>\n",
       "      <td>1</td>\n",
       "      <td>0</td>\n",
       "      <td>1</td>\n",
       "      <td>0</td>\n",
       "      <td>1</td>\n",
       "      <td>1</td>\n",
       "      <td>1</td>\n",
       "      <td>8.050924</td>\n",
       "      <td>9.47025</td>\n",
       "      <td>43.7273</td>\n",
       "      <td>16.636703</td>\n",
       "    </tr>\n",
       "    <tr>\n",
       "      <th>3</th>\n",
       "      <td>1</td>\n",
       "      <td>0</td>\n",
       "      <td>1</td>\n",
       "      <td>0</td>\n",
       "      <td>2</td>\n",
       "      <td>1</td>\n",
       "      <td>1</td>\n",
       "      <td>8.200000</td>\n",
       "      <td>10.60610</td>\n",
       "      <td>59.0435</td>\n",
       "      <td>10.739832</td>\n",
       "    </tr>\n",
       "    <tr>\n",
       "      <th>4</th>\n",
       "      <td>1</td>\n",
       "      <td>0</td>\n",
       "      <td>1</td>\n",
       "      <td>0</td>\n",
       "      <td>3</td>\n",
       "      <td>1</td>\n",
       "      <td>1</td>\n",
       "      <td>9.305237</td>\n",
       "      <td>11.46350</td>\n",
       "      <td>43.6957</td>\n",
       "      <td>12.522300</td>\n",
       "    </tr>\n",
       "  </tbody>\n",
       "</table>\n",
       "</div>"
      ],
      "text/plain": [
       "   season  yr  mnth  holiday  weekday  workingday  weathersit       temp  \\\n",
       "0       1   0     1        0        6           0           2  14.110847   \n",
       "1       1   0     1        0        0           0           2  14.902598   \n",
       "2       1   0     1        0        1           1           1   8.050924   \n",
       "3       1   0     1        0        2           1           1   8.200000   \n",
       "4       1   0     1        0        3           1           1   9.305237   \n",
       "\n",
       "      atemp      hum  windspeed  \n",
       "0  18.18125  80.5833  10.749882  \n",
       "1  17.68695  69.6087  16.652113  \n",
       "2   9.47025  43.7273  16.636703  \n",
       "3  10.60610  59.0435  10.739832  \n",
       "4  11.46350  43.6957  12.522300  "
      ]
     },
     "execution_count": 42,
     "metadata": {},
     "output_type": "execute_result"
    }
   ],
   "source": [
    "X.head()"
   ]
  },
  {
   "cell_type": "markdown",
   "id": "0ad5b1cf",
   "metadata": {},
   "source": [
    "<font size = 4>Decision Tree"
   ]
  },
  {
   "cell_type": "code",
   "execution_count": 43,
   "id": "9942da44",
   "metadata": {
    "colab": {
     "base_uri": "https://localhost:8080/",
     "height": 361
    },
    "id": "9942da44",
    "outputId": "67eab8ba-6735-4601-d669-93292e153aa9"
   },
   "outputs": [
    {
     "data": {
      "image/png": "[encoded data removed]",
      "text/plain": [
       "<Figure size 1200x700 with 1 Axes>"
      ]
     },
     "metadata": {},
     "output_type": "display_data"
    }
   ],
   "source": [
    "fig = plt.figure(figsize=(12,7))\n",
    "ax = plt.gca()\n",
    "xgb.plot_tree(xg_reg,num_trees=0,ax=ax)\n",
    "plt.show()"
   ]
  },
  {
   "attachments": {},
   "cell_type": "markdown",
   "id": "GStxxfUmGfg3",
   "metadata": {
    "id": "GStxxfUmGfg3"
   },
   "source": [
    "This is the structure of the tree that is the result of the training. We can see that max_depth is 3.\n",
    "First one (f1) uses the value of year to make the first decision. And then, it uses months (f2) and the tempeture (f7). Refer to the table above for f values."
   ]
  },
  {
   "cell_type": "markdown",
   "id": "e754008b",
   "metadata": {
    "id": "e754008b"
   },
   "source": [
    "<font size = 5> TensorFlow (Deep Neural Networks)"
   ]
  },
  {
   "cell_type": "code",
   "execution_count": 44,
   "id": "3972737e",
   "metadata": {
    "id": "3972737e"
   },
   "outputs": [],
   "source": [
    "from tensorflow import keras\n",
    "import tensorflow as tf\n",
    "from keras.datasets import mnist\n",
    "from keras import models\n",
    "from keras import layers"
   ]
  },
  {
   "cell_type": "code",
   "execution_count": 45,
   "id": "860ef50b",
   "metadata": {
    "colab": {
     "base_uri": "https://localhost:8080/"
    },
    "id": "860ef50b",
    "outputId": "3664774c-b86c-438e-9024-305b7056d17a"
   },
   "outputs": [
    {
     "name": "stdout",
     "output_type": "stream",
     "text": [
      "(584,)\n",
      "(147,)\n",
      "0       654\n",
      "1       670\n",
      "2      1229\n",
      "3      1454\n",
      "4      1518\n",
      "       ... \n",
      "726    1867\n",
      "727    2451\n",
      "728    1182\n",
      "729    1432\n",
      "730    2290\n",
      "Name: registered, Length: 731, dtype: int64\n"
     ]
    }
   ],
   "source": [
    "print(y_train.shape)\n",
    "print(y_test.shape)\n",
    "\n",
    "print(y)"
   ]
  },
  {
   "cell_type": "code",
   "execution_count": 46,
   "id": "c9e0fa78",
   "metadata": {
    "id": "c9e0fa78"
   },
   "outputs": [],
   "source": [
    "from keras.models import Sequential, load_model\n",
    "from keras.layers import Dense\n",
    "from keras.layers import Dropout\n",
    "from keras.callbacks import ModelCheckpoint"
   ]
  },
  {
   "cell_type": "markdown",
   "id": "1e55d398",
   "metadata": {
    "id": "1e55d398"
   },
   "source": [
    "<font size = 4> Define the Model"
   ]
  },
  {
   "cell_type": "code",
   "execution_count": 47,
   "id": "1d4ec9ca",
   "metadata": {
    "id": "1d4ec9ca"
   },
   "outputs": [],
   "source": [
    "#Set random seed for reproducibility\n",
    "seed = 42\n",
    "np.random.seed(seed)\n",
    "tf.random.set_seed(seed)"
   ]
  },
  {
   "cell_type": "markdown",
   "id": "kxTZYGG3Iv5b",
   "metadata": {
    "id": "kxTZYGG3Iv5b"
   },
   "source": [
    "seed = 42 because I wrote random_state = 42 also. It is good to write the same number when we compare the difference between the models."
   ]
  },
  {
   "cell_type": "code",
   "execution_count": 48,
   "id": "89ec7a52",
   "metadata": {
    "id": "89ec7a52"
   },
   "outputs": [],
   "source": [
    "model = Sequential()\n",
    "model.add(Dense(200, activation = 'relu', input_dim = 11))    #11 because I dropped some columns.\n",
    "model.add(Dense(200, activation = 'relu'))\n",
    "model.add(Dense(200, activation = 'relu'))\n",
    "model.add(Dense(200, activation = 'relu'))\n",
    "model.add(Dense(200, activation = 'relu'))\n",
    "model.add(Dense(1))\n",
    "filepath = 'my_best_model.hdf5'"
   ]
  },
  {
   "cell_type": "markdown",
   "id": "206b8f28",
   "metadata": {},
   "source": [
    "I tried a lot of different dense size and number of layers. 5 x 200 gave me the best result."
   ]
  },
  {
   "cell_type": "code",
   "execution_count": 49,
   "id": "UTI0FpahmfOs",
   "metadata": {
    "id": "UTI0FpahmfOs"
   },
   "outputs": [],
   "source": [
    "opt = tf.keras.optimizers.Adam(0.01)\n",
    "checkpoint = ModelCheckpoint(filepath=filepath,\n",
    "                             monitor='val_loss',\n",
    "                             verbose=0,\n",
    "                             save_best_only=True,\n",
    "                             mode='min')"
   ]
  },
  {
   "cell_type": "markdown",
   "id": "-uw7-guNJhn-",
   "metadata": {
    "id": "-uw7-guNJhn-"
   },
   "source": [
    "I am creating an Adam optimizer so that I can change the learning rate and experiment. Adam is the one of optimizers that gives me actual number for loss. I picked that because it improved my results.\n",
    "I tried some other values and decided to keep 0.01 because it gave me the best score."
   ]
  },
  {
   "cell_type": "markdown",
   "id": "203a8c7b",
   "metadata": {
    "id": "203a8c7b"
   },
   "source": [
    "<font size = 4>Compile the Model"
   ]
  },
  {
   "cell_type": "code",
   "execution_count": 50,
   "id": "ba6f2654",
   "metadata": {
    "id": "ba6f2654"
   },
   "outputs": [],
   "source": [
    "from tensorflow.keras.losses import mean_squared_error\n",
    "model.compile(loss=mean_squared_error, optimizer=opt, metrics=['mse'])"
   ]
  },
  {
   "cell_type": "markdown",
   "id": "e7cdec84",
   "metadata": {},
   "source": [
    "Here, I picked \"mse\" metric for Adam optimizer, because the others didn't give the as good score as this such one, as \"rmsprop\"."
   ]
  },
  {
   "cell_type": "code",
   "execution_count": 51,
   "id": "5febbf9f",
   "metadata": {
    "colab": {
     "base_uri": "https://localhost:8080/"
    },
    "id": "5febbf9f",
    "outputId": "0ec529e6-77ae-4ab8-9d80-2477618b4bf7",
    "scrolled": true
   },
   "outputs": [
    {
     "name": "stdout",
     "output_type": "stream",
     "text": [
      "Model: \"sequential\"\n",
      "_________________________________________________________________\n",
      " Layer (type)                Output Shape              Param #   \n",
      "=================================================================\n",
      " dense (Dense)               (None, 200)               2400      \n",
      "                                                                 \n",
      " dense_1 (Dense)             (None, 200)               40200     \n",
      "                                                                 \n",
      " dense_2 (Dense)             (None, 200)               40200     \n",
      "                                                                 \n",
      " dense_3 (Dense)             (None, 200)               40200     \n",
      "                                                                 \n",
      " dense_4 (Dense)             (None, 200)               40200     \n",
      "                                                                 \n",
      " dense_5 (Dense)             (None, 1)                 201       \n",
      "                                                                 \n",
      "=================================================================\n",
      "Total params: 163,401\n",
      "Trainable params: 163,401\n",
      "Non-trainable params: 0\n",
      "_________________________________________________________________\n"
     ]
    }
   ],
   "source": [
    "model.summary()"
   ]
  },
  {
   "cell_type": "markdown",
   "id": "b0c4d9b3",
   "metadata": {
    "id": "b0c4d9b3"
   },
   "source": [
    "<font size = 4>Build the Model"
   ]
  },
  {
   "cell_type": "code",
   "execution_count": 52,
   "id": "f854ac05",
   "metadata": {
    "colab": {
     "base_uri": "https://localhost:8080/"
    },
    "id": "f854ac05",
    "outputId": "60f76990-f7bf-4a09-b4f4-31c023ffec90"
   },
   "outputs": [
    {
     "name": "stdout",
     "output_type": "stream",
     "text": [
      "Epoch 1/200\n",
      "19/19 [==============================] - 3s 31ms/step - loss: 7167065.5000 - mse: 7167065.5000 - val_loss: 3311030.7500 - val_mse: 3311030.7500\n",
      "Epoch 2/200\n",
      "19/19 [==============================] - 0s 13ms/step - loss: 1144329.7500 - mse: 1144329.7500 - val_loss: 772399.6250 - val_mse: 772399.6250\n",
      "Epoch 3/200\n",
      "19/19 [==============================] - 0s 13ms/step - loss: 682229.6250 - mse: 682229.6250 - val_loss: 533114.6875 - val_mse: 533114.6875\n",
      "Epoch 4/200\n",
      "19/19 [==============================] - 0s 13ms/step - loss: 496392.9375 - mse: 496392.9375 - val_loss: 480763.9688 - val_mse: 480763.9688\n",
      "Epoch 5/200\n",
      "19/19 [==============================] - 0s 9ms/step - loss: 499913.6562 - mse: 499913.6562 - val_loss: 482069.9375 - val_mse: 482069.9375\n",
      "Epoch 6/200\n",
      "19/19 [==============================] - 0s 13ms/step - loss: 461108.8750 - mse: 461108.8750 - val_loss: 459759.9062 - val_mse: 459759.9062\n",
      "Epoch 7/200\n",
      "19/19 [==============================] - 0s 9ms/step - loss: 435625.6562 - mse: 435625.6562 - val_loss: 518726.3125 - val_mse: 518726.3125\n",
      "Epoch 8/200\n",
      "19/19 [==============================] - 0s 9ms/step - loss: 464231.8750 - mse: 464231.8750 - val_loss: 642308.5000 - val_mse: 642308.5000\n",
      "Epoch 9/200\n",
      "19/19 [==============================] - 0s 13ms/step - loss: 469888.8750 - mse: 469888.8750 - val_loss: 454333.3750 - val_mse: 454333.3750\n",
      "Epoch 10/200\n",
      "19/19 [==============================] - 0s 9ms/step - loss: 424183.0312 - mse: 424183.0312 - val_loss: 635737.1250 - val_mse: 635737.1250\n",
      "Epoch 11/200\n",
      "19/19 [==============================] - 0s 9ms/step - loss: 462394.6875 - mse: 462394.6875 - val_loss: 468182.8125 - val_mse: 468182.8125\n",
      "Epoch 12/200\n",
      "19/19 [==============================] - 0s 11ms/step - loss: 633467.3125 - mse: 633467.3125 - val_loss: 444792.9375 - val_mse: 444792.9375\n",
      "Epoch 13/200\n",
      "19/19 [==============================] - 0s 8ms/step - loss: 530140.4375 - mse: 530140.4375 - val_loss: 616710.0625 - val_mse: 616710.0625\n",
      "Epoch 14/200\n",
      "19/19 [==============================] - 0s 7ms/step - loss: 477709.4375 - mse: 477709.4375 - val_loss: 689042.0625 - val_mse: 689042.0625\n",
      "Epoch 15/200\n",
      "19/19 [==============================] - 0s 8ms/step - loss: 445731.5000 - mse: 445731.5000 - val_loss: 475376.4375 - val_mse: 475376.4375\n",
      "Epoch 16/200\n",
      "19/19 [==============================] - 0s 8ms/step - loss: 388390.6875 - mse: 388390.6875 - val_loss: 704481.8125 - val_mse: 704481.8125\n",
      "Epoch 17/200\n",
      "19/19 [==============================] - 0s 11ms/step - loss: 443455.8125 - mse: 443455.8125 - val_loss: 415289.3750 - val_mse: 415289.3750\n",
      "Epoch 18/200\n",
      "19/19 [==============================] - 0s 8ms/step - loss: 462941.9062 - mse: 462941.9062 - val_loss: 424329.9688 - val_mse: 424329.9688\n",
      "Epoch 19/200\n",
      "19/19 [==============================] - 0s 8ms/step - loss: 353794.8438 - mse: 353794.8438 - val_loss: 453114.6250 - val_mse: 453114.6250\n",
      "Epoch 20/200\n",
      "19/19 [==============================] - 0s 8ms/step - loss: 371321.9062 - mse: 371321.9062 - val_loss: 501717.7188 - val_mse: 501717.7188\n",
      "Epoch 21/200\n",
      "19/19 [==============================] - 0s 12ms/step - loss: 347614.1250 - mse: 347614.1250 - val_loss: 381821.5938 - val_mse: 381821.5938\n",
      "Epoch 22/200\n",
      "19/19 [==============================] - 0s 8ms/step - loss: 348258.6875 - mse: 348258.6875 - val_loss: 396203.0625 - val_mse: 396203.0625\n",
      "Epoch 23/200\n",
      "19/19 [==============================] - 0s 8ms/step - loss: 374038.5312 - mse: 374038.5312 - val_loss: 402819.0000 - val_mse: 402819.0000\n",
      "Epoch 24/200\n",
      "19/19 [==============================] - 0s 8ms/step - loss: 349533.5312 - mse: 349533.5312 - val_loss: 388129.9688 - val_mse: 388129.9688\n",
      "Epoch 25/200\n",
      "19/19 [==============================] - 0s 9ms/step - loss: 355955.2500 - mse: 355955.2500 - val_loss: 383411.0312 - val_mse: 383411.0312\n",
      "Epoch 26/200\n",
      "19/19 [==============================] - 0s 8ms/step - loss: 337155.8750 - mse: 337155.8750 - val_loss: 410743.2500 - val_mse: 410743.2500\n",
      "Epoch 27/200\n",
      "19/19 [==============================] - 0s 8ms/step - loss: 425979.9688 - mse: 425979.9688 - val_loss: 736358.9375 - val_mse: 736358.9375\n",
      "Epoch 28/200\n",
      "19/19 [==============================] - 0s 8ms/step - loss: 471570.9062 - mse: 471570.9062 - val_loss: 581847.4375 - val_mse: 581847.4375\n",
      "Epoch 29/200\n",
      "19/19 [==============================] - 0s 8ms/step - loss: 424602.5625 - mse: 424602.5625 - val_loss: 535272.5000 - val_mse: 535272.5000\n",
      "Epoch 30/200\n",
      "19/19 [==============================] - 0s 8ms/step - loss: 353951.6250 - mse: 353951.6250 - val_loss: 479757.8750 - val_mse: 479757.8750\n",
      "Epoch 31/200\n",
      "19/19 [==============================] - 0s 12ms/step - loss: 319966.9375 - mse: 319966.9375 - val_loss: 344752.5625 - val_mse: 344752.5625\n",
      "Epoch 32/200\n",
      "19/19 [==============================] - 0s 9ms/step - loss: 358092.1875 - mse: 358092.1875 - val_loss: 660211.7500 - val_mse: 660211.7500\n",
      "Epoch 33/200\n",
      "19/19 [==============================] - 0s 9ms/step - loss: 399567.0312 - mse: 399567.0312 - val_loss: 448045.7188 - val_mse: 448045.7188\n",
      "Epoch 34/200\n",
      "19/19 [==============================] - 0s 9ms/step - loss: 433818.3750 - mse: 433818.3750 - val_loss: 363693.8125 - val_mse: 363693.8125\n",
      "Epoch 35/200\n",
      "19/19 [==============================] - 0s 9ms/step - loss: 390599.3750 - mse: 390599.3750 - val_loss: 353429.0625 - val_mse: 353429.0625\n",
      "Epoch 36/200\n",
      "19/19 [==============================] - 0s 9ms/step - loss: 438204.3750 - mse: 438204.3750 - val_loss: 365199.1562 - val_mse: 365199.1562\n",
      "Epoch 37/200\n",
      "19/19 [==============================] - 0s 9ms/step - loss: 406784.2188 - mse: 406784.2188 - val_loss: 370408.3125 - val_mse: 370408.3125\n",
      "Epoch 38/200\n",
      "19/19 [==============================] - 0s 9ms/step - loss: 342161.7812 - mse: 342161.7812 - val_loss: 350185.0938 - val_mse: 350185.0938\n",
      "Epoch 39/200\n",
      "19/19 [==============================] - 0s 13ms/step - loss: 292784.4375 - mse: 292784.4375 - val_loss: 337141.1562 - val_mse: 337141.1562\n",
      "Epoch 40/200\n",
      "19/19 [==============================] - 0s 9ms/step - loss: 370018.7188 - mse: 370018.7188 - val_loss: 585709.8750 - val_mse: 585709.8750\n",
      "Epoch 41/200\n",
      "19/19 [==============================] - 0s 9ms/step - loss: 348017.0312 - mse: 348017.0312 - val_loss: 606871.6250 - val_mse: 606871.6250\n",
      "Epoch 42/200\n",
      "19/19 [==============================] - 0s 9ms/step - loss: 408788.9688 - mse: 408788.9688 - val_loss: 558617.9375 - val_mse: 558617.9375\n",
      "Epoch 43/200\n",
      "19/19 [==============================] - 0s 9ms/step - loss: 342932.0000 - mse: 342932.0000 - val_loss: 505890.5625 - val_mse: 505890.5625\n",
      "Epoch 44/200\n",
      "19/19 [==============================] - 0s 9ms/step - loss: 283848.6250 - mse: 283848.6250 - val_loss: 711634.3750 - val_mse: 711634.3750\n",
      "Epoch 45/200\n",
      "19/19 [==============================] - 0s 9ms/step - loss: 409039.4375 - mse: 409039.4375 - val_loss: 348141.5938 - val_mse: 348141.5938\n",
      "Epoch 46/200\n",
      "19/19 [==============================] - 0s 8ms/step - loss: 250155.5312 - mse: 250155.5312 - val_loss: 422574.5938 - val_mse: 422574.5938\n",
      "Epoch 47/200\n",
      "19/19 [==============================] - 0s 9ms/step - loss: 280216.6250 - mse: 280216.6250 - val_loss: 419644.9062 - val_mse: 419644.9062\n",
      "Epoch 48/200\n",
      "19/19 [==============================] - 0s 9ms/step - loss: 273915.7812 - mse: 273915.7812 - val_loss: 453639.6250 - val_mse: 453639.6250\n",
      "Epoch 49/200\n",
      "19/19 [==============================] - 0s 9ms/step - loss: 260387.2344 - mse: 260387.2344 - val_loss: 346068.5625 - val_mse: 346068.5625\n",
      "Epoch 50/200\n",
      "19/19 [==============================] - 0s 13ms/step - loss: 244931.8906 - mse: 244931.8906 - val_loss: 328288.1875 - val_mse: 328288.1875\n",
      "Epoch 51/200\n",
      "19/19 [==============================] - 0s 9ms/step - loss: 275201.9375 - mse: 275201.9375 - val_loss: 340785.4375 - val_mse: 340785.4375\n",
      "Epoch 52/200\n",
      "19/19 [==============================] - 0s 9ms/step - loss: 244712.0000 - mse: 244712.0000 - val_loss: 389281.0000 - val_mse: 389281.0000\n",
      "Epoch 53/200\n",
      "19/19 [==============================] - 0s 9ms/step - loss: 233203.6406 - mse: 233203.6406 - val_loss: 427451.9062 - val_mse: 427451.9062\n",
      "Epoch 54/200\n",
      "19/19 [==============================] - 0s 9ms/step - loss: 291902.1250 - mse: 291902.1250 - val_loss: 398670.9688 - val_mse: 398670.9688\n"
     ]
    },
    {
     "name": "stdout",
     "output_type": "stream",
     "text": [
      "Epoch 55/200\n",
      "19/19 [==============================] - 0s 8ms/step - loss: 333551.6562 - mse: 333551.6562 - val_loss: 429214.4688 - val_mse: 429214.4688\n",
      "Epoch 56/200\n",
      "19/19 [==============================] - 0s 8ms/step - loss: 289876.3438 - mse: 289876.3438 - val_loss: 375901.6562 - val_mse: 375901.6562\n",
      "Epoch 57/200\n",
      "19/19 [==============================] - 0s 9ms/step - loss: 242521.1562 - mse: 242521.1562 - val_loss: 418565.7188 - val_mse: 418565.7188\n",
      "Epoch 58/200\n",
      "19/19 [==============================] - 0s 9ms/step - loss: 239968.4688 - mse: 239968.4688 - val_loss: 337618.7812 - val_mse: 337618.7812\n",
      "Epoch 59/200\n",
      "19/19 [==============================] - 0s 14ms/step - loss: 233123.7500 - mse: 233123.7500 - val_loss: 300533.0938 - val_mse: 300533.0938\n",
      "Epoch 60/200\n",
      "19/19 [==============================] - 0s 9ms/step - loss: 294225.4062 - mse: 294225.4062 - val_loss: 443264.9375 - val_mse: 443264.9375\n",
      "Epoch 61/200\n",
      "19/19 [==============================] - 0s 9ms/step - loss: 285610.6875 - mse: 285610.6875 - val_loss: 340997.0312 - val_mse: 340997.0312\n",
      "Epoch 62/200\n",
      "19/19 [==============================] - 0s 9ms/step - loss: 265321.4062 - mse: 265321.4062 - val_loss: 462968.9688 - val_mse: 462968.9688\n",
      "Epoch 63/200\n",
      "19/19 [==============================] - 0s 9ms/step - loss: 245543.0938 - mse: 245543.0938 - val_loss: 349668.5938 - val_mse: 349668.5938\n",
      "Epoch 64/200\n",
      "19/19 [==============================] - 0s 9ms/step - loss: 229106.9531 - mse: 229106.9531 - val_loss: 503157.0000 - val_mse: 503157.0000\n",
      "Epoch 65/200\n",
      "19/19 [==============================] - 0s 9ms/step - loss: 367136.5625 - mse: 367136.5625 - val_loss: 362917.0938 - val_mse: 362917.0938\n",
      "Epoch 66/200\n",
      "19/19 [==============================] - 0s 9ms/step - loss: 278662.3125 - mse: 278662.3125 - val_loss: 378228.3125 - val_mse: 378228.3125\n",
      "Epoch 67/200\n",
      "19/19 [==============================] - 0s 8ms/step - loss: 253342.6562 - mse: 253342.6562 - val_loss: 367182.8125 - val_mse: 367182.8125\n",
      "Epoch 68/200\n",
      "19/19 [==============================] - 0s 9ms/step - loss: 218718.0625 - mse: 218718.0625 - val_loss: 366437.8438 - val_mse: 366437.8438\n",
      "Epoch 69/200\n",
      "19/19 [==============================] - 0s 9ms/step - loss: 232224.3281 - mse: 232224.3281 - val_loss: 325658.1250 - val_mse: 325658.1250\n",
      "Epoch 70/200\n",
      "19/19 [==============================] - 0s 8ms/step - loss: 192783.3125 - mse: 192783.3125 - val_loss: 353385.4062 - val_mse: 353385.4062\n",
      "Epoch 71/200\n",
      "19/19 [==============================] - 0s 8ms/step - loss: 226558.6719 - mse: 226558.6719 - val_loss: 360267.2188 - val_mse: 360267.2188\n",
      "Epoch 72/200\n",
      "19/19 [==============================] - 0s 9ms/step - loss: 234360.6094 - mse: 234360.6094 - val_loss: 319280.8125 - val_mse: 319280.8125\n",
      "Epoch 73/200\n",
      "19/19 [==============================] - 0s 9ms/step - loss: 217148.8438 - mse: 217148.8438 - val_loss: 600651.8750 - val_mse: 600651.8750\n",
      "Epoch 74/200\n",
      "19/19 [==============================] - 0s 9ms/step - loss: 292372.2500 - mse: 292372.2500 - val_loss: 364907.0000 - val_mse: 364907.0000\n",
      "Epoch 75/200\n",
      "19/19 [==============================] - 0s 9ms/step - loss: 227234.8750 - mse: 227234.8750 - val_loss: 352557.7812 - val_mse: 352557.7812\n",
      "Epoch 76/200\n",
      "19/19 [==============================] - 0s 9ms/step - loss: 229443.6094 - mse: 229443.6094 - val_loss: 597055.4375 - val_mse: 597055.4375\n",
      "Epoch 77/200\n",
      "19/19 [==============================] - 0s 9ms/step - loss: 279525.3750 - mse: 279525.3750 - val_loss: 347595.4688 - val_mse: 347595.4688\n",
      "Epoch 78/200\n",
      "19/19 [==============================] - 0s 9ms/step - loss: 276918.5312 - mse: 276918.5312 - val_loss: 366546.5000 - val_mse: 366546.5000\n",
      "Epoch 79/200\n",
      "19/19 [==============================] - 0s 9ms/step - loss: 204251.3125 - mse: 204251.3125 - val_loss: 357930.9062 - val_mse: 357930.9062\n",
      "Epoch 80/200\n",
      "19/19 [==============================] - 0s 9ms/step - loss: 200209.1562 - mse: 200209.1562 - val_loss: 367242.2812 - val_mse: 367242.2812\n",
      "Epoch 81/200\n",
      "19/19 [==============================] - 0s 9ms/step - loss: 202960.9844 - mse: 202960.9844 - val_loss: 504124.4688 - val_mse: 504124.4688\n",
      "Epoch 82/200\n",
      "19/19 [==============================] - 0s 9ms/step - loss: 271273.3438 - mse: 271273.3438 - val_loss: 398656.4688 - val_mse: 398656.4688\n",
      "Epoch 83/200\n",
      "19/19 [==============================] - 0s 8ms/step - loss: 190375.2656 - mse: 190375.2656 - val_loss: 432160.4375 - val_mse: 432160.4375\n",
      "Epoch 84/200\n",
      "19/19 [==============================] - 0s 9ms/step - loss: 207396.4219 - mse: 207396.4219 - val_loss: 409131.3125 - val_mse: 409131.3125\n",
      "Epoch 85/200\n",
      "19/19 [==============================] - 0s 9ms/step - loss: 221935.5469 - mse: 221935.5469 - val_loss: 358915.6562 - val_mse: 358915.6562\n",
      "Epoch 86/200\n",
      "19/19 [==============================] - 0s 9ms/step - loss: 246056.8281 - mse: 246056.8281 - val_loss: 352887.5312 - val_mse: 352887.5312\n",
      "Epoch 87/200\n",
      "19/19 [==============================] - 0s 9ms/step - loss: 198972.5625 - mse: 198972.5625 - val_loss: 366354.0000 - val_mse: 366354.0000\n",
      "Epoch 88/200\n",
      "19/19 [==============================] - 0s 10ms/step - loss: 295495.2812 - mse: 295495.2812 - val_loss: 536657.7500 - val_mse: 536657.7500\n",
      "Epoch 89/200\n",
      "19/19 [==============================] - 0s 8ms/step - loss: 248054.6562 - mse: 248054.6562 - val_loss: 475279.0625 - val_mse: 475279.0625\n",
      "Epoch 90/200\n",
      "19/19 [==============================] - 0s 9ms/step - loss: 296493.0000 - mse: 296493.0000 - val_loss: 1171511.3750 - val_mse: 1171511.3750\n",
      "Epoch 91/200\n",
      "19/19 [==============================] - 0s 8ms/step - loss: 381480.1250 - mse: 381480.1250 - val_loss: 392066.1250 - val_mse: 392066.1250\n",
      "Epoch 92/200\n",
      "19/19 [==============================] - 0s 9ms/step - loss: 205715.1719 - mse: 205715.1719 - val_loss: 422631.4688 - val_mse: 422631.5000\n",
      "Epoch 93/200\n",
      "19/19 [==============================] - 0s 8ms/step - loss: 181242.7656 - mse: 181242.7656 - val_loss: 404723.4375 - val_mse: 404723.4375\n",
      "Epoch 94/200\n",
      "19/19 [==============================] - 0s 9ms/step - loss: 221847.1562 - mse: 221847.1562 - val_loss: 342620.0938 - val_mse: 342620.0938\n",
      "Epoch 95/200\n",
      "19/19 [==============================] - 0s 8ms/step - loss: 283925.8125 - mse: 283925.8125 - val_loss: 341443.6875 - val_mse: 341443.6875\n",
      "Epoch 96/200\n",
      "19/19 [==============================] - 0s 8ms/step - loss: 225816.7188 - mse: 225816.7188 - val_loss: 416753.5312 - val_mse: 416753.5312\n",
      "Epoch 97/200\n",
      "19/19 [==============================] - 0s 10ms/step - loss: 416753.9688 - mse: 416753.9688 - val_loss: 512350.8125 - val_mse: 512350.8125\n",
      "Epoch 98/200\n",
      "19/19 [==============================] - 0s 8ms/step - loss: 203753.5312 - mse: 203753.5312 - val_loss: 384984.7500 - val_mse: 384984.7500\n",
      "Epoch 99/200\n",
      "19/19 [==============================] - 0s 8ms/step - loss: 288412.4375 - mse: 288412.4375 - val_loss: 457537.4688 - val_mse: 457537.4688\n",
      "Epoch 100/200\n",
      "19/19 [==============================] - 0s 9ms/step - loss: 202748.4375 - mse: 202748.4375 - val_loss: 348454.0000 - val_mse: 348454.0000\n",
      "Epoch 101/200\n",
      "19/19 [==============================] - 0s 8ms/step - loss: 190923.9375 - mse: 190923.9375 - val_loss: 367389.4688 - val_mse: 367389.4688\n",
      "Epoch 102/200\n",
      "19/19 [==============================] - 0s 9ms/step - loss: 182658.1562 - mse: 182658.1562 - val_loss: 374363.3125 - val_mse: 374363.3125\n",
      "Epoch 103/200\n",
      "19/19 [==============================] - 0s 8ms/step - loss: 172147.3906 - mse: 172147.3906 - val_loss: 383825.2188 - val_mse: 383825.2188\n",
      "Epoch 104/200\n",
      "19/19 [==============================] - 0s 9ms/step - loss: 179947.0156 - mse: 179947.0156 - val_loss: 368911.2500 - val_mse: 368911.2500\n",
      "Epoch 105/200\n",
      "19/19 [==============================] - 0s 9ms/step - loss: 165837.0312 - mse: 165837.0312 - val_loss: 362666.5938 - val_mse: 362666.5938\n",
      "Epoch 106/200\n",
      "19/19 [==============================] - 0s 8ms/step - loss: 157507.8281 - mse: 157507.8281 - val_loss: 391615.4688 - val_mse: 391615.4688\n",
      "Epoch 107/200\n",
      "19/19 [==============================] - 0s 7ms/step - loss: 158427.9531 - mse: 158427.9531 - val_loss: 389113.2188 - val_mse: 389113.2188\n",
      "Epoch 108/200\n",
      "19/19 [==============================] - 0s 8ms/step - loss: 181389.6562 - mse: 181389.6562 - val_loss: 390869.9688 - val_mse: 390869.9688\n"
     ]
    },
    {
     "name": "stdout",
     "output_type": "stream",
     "text": [
      "Epoch 109/200\n",
      "19/19 [==============================] - 0s 8ms/step - loss: 218990.6094 - mse: 218990.6094 - val_loss: 400580.0312 - val_mse: 400580.0312\n",
      "Epoch 110/200\n",
      "19/19 [==============================] - 0s 8ms/step - loss: 219227.0781 - mse: 219227.0781 - val_loss: 485154.4375 - val_mse: 485154.4375\n",
      "Epoch 111/200\n",
      "19/19 [==============================] - 0s 9ms/step - loss: 247678.0781 - mse: 247678.0781 - val_loss: 434684.5312 - val_mse: 434684.5312\n",
      "Epoch 112/200\n",
      "19/19 [==============================] - 0s 8ms/step - loss: 232841.5625 - mse: 232841.5625 - val_loss: 393380.9375 - val_mse: 393380.9375\n",
      "Epoch 113/200\n",
      "19/19 [==============================] - 0s 9ms/step - loss: 207898.8594 - mse: 207898.8594 - val_loss: 368372.7812 - val_mse: 368372.7812\n",
      "Epoch 114/200\n",
      "19/19 [==============================] - 0s 8ms/step - loss: 186099.5156 - mse: 186099.5156 - val_loss: 430920.5938 - val_mse: 430920.5938\n",
      "Epoch 115/200\n",
      "19/19 [==============================] - 0s 9ms/step - loss: 277486.1250 - mse: 277486.1250 - val_loss: 770910.9375 - val_mse: 770910.9375\n",
      "Epoch 116/200\n",
      "19/19 [==============================] - 0s 9ms/step - loss: 379769.5938 - mse: 379769.5938 - val_loss: 420847.1875 - val_mse: 420847.1875\n",
      "Epoch 117/200\n",
      "19/19 [==============================] - 0s 8ms/step - loss: 218956.4531 - mse: 218956.4531 - val_loss: 398377.5938 - val_mse: 398377.5938\n",
      "Epoch 118/200\n",
      "19/19 [==============================] - 0s 8ms/step - loss: 170469.3750 - mse: 170469.3750 - val_loss: 500713.4688 - val_mse: 500713.4688\n",
      "Epoch 119/200\n",
      "19/19 [==============================] - 0s 8ms/step - loss: 408752.6875 - mse: 408752.6875 - val_loss: 377719.8438 - val_mse: 377719.8438\n",
      "Epoch 120/200\n",
      "19/19 [==============================] - 0s 9ms/step - loss: 212284.7500 - mse: 212284.7500 - val_loss: 544562.0000 - val_mse: 544562.0000\n",
      "Epoch 121/200\n",
      "19/19 [==============================] - 0s 7ms/step - loss: 194890.8281 - mse: 194890.8281 - val_loss: 386382.1562 - val_mse: 386382.1562\n",
      "Epoch 122/200\n",
      "19/19 [==============================] - 0s 7ms/step - loss: 222564.5469 - mse: 222564.5469 - val_loss: 421038.5312 - val_mse: 421038.5312\n",
      "Epoch 123/200\n",
      "19/19 [==============================] - 0s 9ms/step - loss: 265408.2812 - mse: 265408.2812 - val_loss: 393511.3438 - val_mse: 393511.3438\n",
      "Epoch 124/200\n",
      "19/19 [==============================] - 0s 8ms/step - loss: 165981.5312 - mse: 165981.5312 - val_loss: 391802.6250 - val_mse: 391802.6250\n",
      "Epoch 125/200\n",
      "19/19 [==============================] - 0s 8ms/step - loss: 195553.3906 - mse: 195553.3906 - val_loss: 385735.4688 - val_mse: 385735.4688\n",
      "Epoch 126/200\n",
      "19/19 [==============================] - 0s 8ms/step - loss: 190014.4375 - mse: 190014.4375 - val_loss: 492394.4062 - val_mse: 492394.4062\n",
      "Epoch 127/200\n",
      "19/19 [==============================] - 0s 10ms/step - loss: 177527.9375 - mse: 177527.9375 - val_loss: 389942.5938 - val_mse: 389942.5938\n",
      "Epoch 128/200\n",
      "19/19 [==============================] - 0s 8ms/step - loss: 147070.0781 - mse: 147070.0781 - val_loss: 398494.3125 - val_mse: 398494.3125\n",
      "Epoch 129/200\n",
      "19/19 [==============================] - 0s 9ms/step - loss: 158578.9375 - mse: 158578.9375 - val_loss: 369131.1562 - val_mse: 369131.1562\n",
      "Epoch 130/200\n",
      "19/19 [==============================] - 0s 9ms/step - loss: 159044.5000 - mse: 159044.5000 - val_loss: 401462.2188 - val_mse: 401462.2188\n",
      "Epoch 131/200\n",
      "19/19 [==============================] - 0s 9ms/step - loss: 175560.7188 - mse: 175560.7188 - val_loss: 386397.6250 - val_mse: 386397.6250\n",
      "Epoch 132/200\n",
      "19/19 [==============================] - 0s 8ms/step - loss: 148897.5625 - mse: 148897.5625 - val_loss: 371633.1250 - val_mse: 371633.1250\n",
      "Epoch 133/200\n",
      "19/19 [==============================] - 0s 9ms/step - loss: 190991.7812 - mse: 190991.7812 - val_loss: 497951.5625 - val_mse: 497951.5625\n",
      "Epoch 134/200\n",
      "19/19 [==============================] - 0s 9ms/step - loss: 195635.0625 - mse: 195635.0625 - val_loss: 369827.0625 - val_mse: 369827.0625\n",
      "Epoch 135/200\n",
      "19/19 [==============================] - 0s 9ms/step - loss: 143795.4219 - mse: 143795.4219 - val_loss: 392243.4688 - val_mse: 392243.4688\n",
      "Epoch 136/200\n",
      "19/19 [==============================] - 0s 9ms/step - loss: 166396.6094 - mse: 166396.6094 - val_loss: 354178.7188 - val_mse: 354178.7188\n",
      "Epoch 137/200\n",
      "19/19 [==============================] - 0s 9ms/step - loss: 147787.3906 - mse: 147787.3906 - val_loss: 379177.9062 - val_mse: 379177.9062\n",
      "Epoch 138/200\n",
      "19/19 [==============================] - 0s 9ms/step - loss: 211470.4375 - mse: 211470.4375 - val_loss: 414026.9375 - val_mse: 414026.9375\n",
      "Epoch 139/200\n",
      "19/19 [==============================] - 0s 9ms/step - loss: 173660.2969 - mse: 173660.2969 - val_loss: 403439.9688 - val_mse: 403439.9688\n",
      "Epoch 140/200\n",
      "19/19 [==============================] - 0s 8ms/step - loss: 155577.0469 - mse: 155577.0469 - val_loss: 369964.6250 - val_mse: 369964.6250\n",
      "Epoch 141/200\n",
      "19/19 [==============================] - 0s 8ms/step - loss: 150151.2812 - mse: 150151.2812 - val_loss: 362087.2812 - val_mse: 362087.2812\n",
      "Epoch 142/200\n",
      "19/19 [==============================] - 0s 9ms/step - loss: 142640.4531 - mse: 142640.4531 - val_loss: 399660.1875 - val_mse: 399660.1875\n",
      "Epoch 143/200\n",
      "19/19 [==============================] - 0s 9ms/step - loss: 155105.7188 - mse: 155105.7188 - val_loss: 397488.1250 - val_mse: 397488.1250\n",
      "Epoch 144/200\n",
      "19/19 [==============================] - 0s 9ms/step - loss: 149074.0625 - mse: 149074.0625 - val_loss: 365053.6250 - val_mse: 365053.6250\n",
      "Epoch 145/200\n",
      "19/19 [==============================] - 0s 9ms/step - loss: 146706.7500 - mse: 146706.7500 - val_loss: 383888.8750 - val_mse: 383888.8750\n",
      "Epoch 146/200\n",
      "19/19 [==============================] - 0s 9ms/step - loss: 154514.2969 - mse: 154514.2969 - val_loss: 373724.0938 - val_mse: 373724.0938\n",
      "Epoch 147/200\n",
      "19/19 [==============================] - 0s 9ms/step - loss: 133238.8125 - mse: 133238.8125 - val_loss: 470801.2500 - val_mse: 470801.2500\n",
      "Epoch 148/200\n",
      "19/19 [==============================] - 0s 9ms/step - loss: 160529.7812 - mse: 160529.7812 - val_loss: 441519.6875 - val_mse: 441519.6875\n",
      "Epoch 149/200\n",
      "19/19 [==============================] - 0s 9ms/step - loss: 198098.7500 - mse: 198098.7500 - val_loss: 419580.1875 - val_mse: 419580.1875\n",
      "Epoch 150/200\n",
      "19/19 [==============================] - 0s 9ms/step - loss: 187347.8281 - mse: 187347.8281 - val_loss: 451706.8750 - val_mse: 451706.8750\n",
      "Epoch 151/200\n",
      "19/19 [==============================] - 0s 8ms/step - loss: 181812.4531 - mse: 181812.4531 - val_loss: 380348.3125 - val_mse: 380348.3125\n",
      "Epoch 152/200\n",
      "19/19 [==============================] - 0s 9ms/step - loss: 164989.2969 - mse: 164989.2969 - val_loss: 376257.9062 - val_mse: 376257.9062\n",
      "Epoch 153/200\n",
      "19/19 [==============================] - 0s 9ms/step - loss: 154016.7188 - mse: 154016.7188 - val_loss: 367334.9688 - val_mse: 367334.9688\n",
      "Epoch 154/200\n",
      "19/19 [==============================] - 0s 9ms/step - loss: 162843.7188 - mse: 162843.7188 - val_loss: 359162.5312 - val_mse: 359162.5312\n",
      "Epoch 155/200\n",
      "19/19 [==============================] - 0s 9ms/step - loss: 190757.1719 - mse: 190757.1719 - val_loss: 402006.4375 - val_mse: 402006.4375\n",
      "Epoch 156/200\n",
      "19/19 [==============================] - 0s 9ms/step - loss: 161604.3594 - mse: 161604.3594 - val_loss: 383856.4375 - val_mse: 383856.4375\n",
      "Epoch 157/200\n",
      "19/19 [==============================] - 0s 9ms/step - loss: 162737.1719 - mse: 162737.1719 - val_loss: 324035.2500 - val_mse: 324035.2500\n",
      "Epoch 158/200\n",
      "19/19 [==============================] - 0s 9ms/step - loss: 202075.1719 - mse: 202075.1719 - val_loss: 565275.1250 - val_mse: 565275.1250\n",
      "Epoch 159/200\n",
      "19/19 [==============================] - 0s 9ms/step - loss: 199411.0312 - mse: 199411.0312 - val_loss: 478085.0000 - val_mse: 478085.0000\n",
      "Epoch 160/200\n",
      "19/19 [==============================] - 0s 9ms/step - loss: 187403.5000 - mse: 187403.5000 - val_loss: 349887.1562 - val_mse: 349887.1562\n",
      "Epoch 161/200\n",
      "19/19 [==============================] - 0s 8ms/step - loss: 201423.3281 - mse: 201423.3281 - val_loss: 614372.6250 - val_mse: 614372.6250\n",
      "Epoch 162/200\n",
      "19/19 [==============================] - 0s 9ms/step - loss: 317113.5938 - mse: 317113.5938 - val_loss: 397821.7188 - val_mse: 397821.7188\n",
      "Epoch 163/200\n",
      "19/19 [==============================] - 0s 9ms/step - loss: 193902.3906 - mse: 193902.3906 - val_loss: 494731.2500 - val_mse: 494731.2500\n",
      "Epoch 164/200\n",
      "19/19 [==============================] - 0s 9ms/step - loss: 146977.3750 - mse: 146977.3750 - val_loss: 367637.1562 - val_mse: 367637.1562\n",
      "Epoch 165/200\n",
      "19/19 [==============================] - 0s 9ms/step - loss: 132108.1094 - mse: 132108.1094 - val_loss: 399830.9688 - val_mse: 399830.9688\n",
      "Epoch 166/200\n",
      "19/19 [==============================] - 0s 9ms/step - loss: 137844.8594 - mse: 137844.8594 - val_loss: 378687.8125 - val_mse: 378687.8125\n",
      "Epoch 167/200\n",
      "19/19 [==============================] - 0s 9ms/step - loss: 136398.9531 - mse: 136398.9531 - val_loss: 376385.1875 - val_mse: 376385.1875\n",
      "Epoch 168/200\n",
      "19/19 [==============================] - 0s 9ms/step - loss: 182585.8594 - mse: 182585.8594 - val_loss: 407332.8438 - val_mse: 407332.8438\n",
      "Epoch 169/200\n",
      "19/19 [==============================] - 0s 9ms/step - loss: 166701.6406 - mse: 166701.6406 - val_loss: 432740.5938 - val_mse: 432740.5938\n",
      "Epoch 170/200\n",
      "19/19 [==============================] - 0s 9ms/step - loss: 147738.0625 - mse: 147738.0625 - val_loss: 403566.6875 - val_mse: 403566.6875\n",
      "Epoch 171/200\n",
      "19/19 [==============================] - 0s 9ms/step - loss: 132693.5781 - mse: 132693.5781 - val_loss: 375551.5000 - val_mse: 375551.5000\n",
      "Epoch 172/200\n",
      "19/19 [==============================] - 0s 9ms/step - loss: 149092.5000 - mse: 149092.5000 - val_loss: 419668.0938 - val_mse: 419668.0938\n",
      "Epoch 173/200\n",
      "19/19 [==============================] - 0s 9ms/step - loss: 156914.9531 - mse: 156914.9531 - val_loss: 408658.6875 - val_mse: 408658.6875\n",
      "Epoch 174/200\n",
      "19/19 [==============================] - 0s 9ms/step - loss: 156416.6094 - mse: 156416.6094 - val_loss: 470033.5312 - val_mse: 470033.5312\n",
      "Epoch 175/200\n",
      "19/19 [==============================] - 0s 9ms/step - loss: 135670.9844 - mse: 135670.9844 - val_loss: 491126.9062 - val_mse: 491126.9062\n",
      "Epoch 176/200\n",
      "19/19 [==============================] - 0s 9ms/step - loss: 221913.5938 - mse: 221913.5938 - val_loss: 472900.6250 - val_mse: 472900.6250\n",
      "Epoch 177/200\n",
      "19/19 [==============================] - 0s 9ms/step - loss: 211394.0625 - mse: 211394.0625 - val_loss: 368859.8125 - val_mse: 368859.8125\n",
      "Epoch 178/200\n",
      "19/19 [==============================] - 0s 9ms/step - loss: 184882.7500 - mse: 184882.7500 - val_loss: 364925.2188 - val_mse: 364925.2188\n",
      "Epoch 179/200\n",
      "19/19 [==============================] - 0s 9ms/step - loss: 143150.5625 - mse: 143150.5625 - val_loss: 365064.8750 - val_mse: 365064.8750\n",
      "Epoch 180/200\n",
      "19/19 [==============================] - 0s 9ms/step - loss: 146665.1719 - mse: 146665.1719 - val_loss: 419063.0000 - val_mse: 419063.0000\n",
      "Epoch 181/200\n",
      "19/19 [==============================] - 0s 9ms/step - loss: 157806.3438 - mse: 157806.3438 - val_loss: 382500.9375 - val_mse: 382500.9375\n",
      "Epoch 182/200\n",
      "19/19 [==============================] - 0s 8ms/step - loss: 136799.0781 - mse: 136799.0781 - val_loss: 367370.0000 - val_mse: 367370.0000\n",
      "Epoch 183/200\n",
      "19/19 [==============================] - 0s 8ms/step - loss: 134418.1719 - mse: 134418.1719 - val_loss: 375458.6250 - val_mse: 375458.6250\n",
      "Epoch 184/200\n",
      "19/19 [==============================] - 0s 9ms/step - loss: 123907.9062 - mse: 123907.9062 - val_loss: 383069.6562 - val_mse: 383069.6562\n",
      "Epoch 185/200\n",
      "19/19 [==============================] - 0s 9ms/step - loss: 129340.3594 - mse: 129340.3594 - val_loss: 448034.0625 - val_mse: 448034.0625\n",
      "Epoch 186/200\n",
      "19/19 [==============================] - 0s 9ms/step - loss: 182755.0000 - mse: 182755.0000 - val_loss: 438529.4688 - val_mse: 438529.4688\n",
      "Epoch 187/200\n",
      "19/19 [==============================] - 0s 9ms/step - loss: 140156.4688 - mse: 140156.4688 - val_loss: 411617.8125 - val_mse: 411617.8125\n",
      "Epoch 188/200\n",
      "19/19 [==============================] - 0s 8ms/step - loss: 150357.7344 - mse: 150357.7344 - val_loss: 467997.1250 - val_mse: 467997.1250\n",
      "Epoch 189/200\n",
      "19/19 [==============================] - 0s 9ms/step - loss: 148081.4375 - mse: 148081.4375 - val_loss: 456712.9375 - val_mse: 456712.9375\n",
      "Epoch 190/200\n",
      "19/19 [==============================] - 0s 9ms/step - loss: 148758.7812 - mse: 148758.7812 - val_loss: 401622.7812 - val_mse: 401622.7812\n",
      "Epoch 191/200\n",
      "19/19 [==============================] - 0s 9ms/step - loss: 127480.1953 - mse: 127480.1953 - val_loss: 390148.4375 - val_mse: 390148.4375\n",
      "Epoch 192/200\n",
      "19/19 [==============================] - 0s 9ms/step - loss: 157065.3438 - mse: 157065.3438 - val_loss: 461578.6562 - val_mse: 461578.6562\n",
      "Epoch 193/200\n",
      "19/19 [==============================] - 0s 9ms/step - loss: 163065.3750 - mse: 163065.3750 - val_loss: 405912.0625 - val_mse: 405912.0625\n",
      "Epoch 194/200\n",
      "19/19 [==============================] - 0s 9ms/step - loss: 157236.8281 - mse: 157236.8281 - val_loss: 369765.7188 - val_mse: 369765.7188\n",
      "Epoch 195/200\n",
      "19/19 [==============================] - 0s 9ms/step - loss: 119413.6562 - mse: 119413.6562 - val_loss: 390850.7812 - val_mse: 390850.7812\n",
      "Epoch 196/200\n",
      "19/19 [==============================] - 0s 9ms/step - loss: 140296.2812 - mse: 140296.2812 - val_loss: 377885.1250 - val_mse: 377885.1250\n",
      "Epoch 197/200\n",
      "19/19 [==============================] - 0s 9ms/step - loss: 178380.3125 - mse: 178380.3125 - val_loss: 391435.1562 - val_mse: 391435.1562\n",
      "Epoch 198/200\n",
      "19/19 [==============================] - 0s 9ms/step - loss: 125549.1953 - mse: 125549.1953 - val_loss: 371172.3750 - val_mse: 371172.3750\n",
      "Epoch 199/200\n",
      "19/19 [==============================] - 0s 9ms/step - loss: 129359.9844 - mse: 129359.9844 - val_loss: 380708.6250 - val_mse: 380708.6250\n",
      "Epoch 200/200\n",
      "19/19 [==============================] - 0s 9ms/step - loss: 155381.2656 - mse: 155381.2656 - val_loss: 395064.0000 - val_mse: 395064.0000\n"
     ]
    }
   ],
   "source": [
    "r = model.fit(x_train_minmax, y_train, epochs=200,validation_data=(x_test_minmax,y_test),callbacks=[checkpoint])"
   ]
  },
  {
   "cell_type": "markdown",
   "id": "a8c563dc",
   "metadata": {},
   "source": [
    "In this line, I changed the epochs many times, starting a small number to bigger number. Eventually, 200 was a good epochs to keep."
   ]
  },
  {
   "cell_type": "markdown",
   "id": "12cff382",
   "metadata": {},
   "source": [
    "<font size = 4>Plots for Loss and Validation Loss"
   ]
  },
  {
   "cell_type": "code",
   "execution_count": 53,
   "id": "x8iWKm7Wlegl",
   "metadata": {
    "colab": {
     "base_uri": "https://localhost:8080/",
     "height": 463
    },
    "id": "x8iWKm7Wlegl",
    "outputId": "30a10575-6290-4b33-ffb0-f657bbd28226"
   },
   "outputs": [
    {
     "data": {
      "text/plain": [
       "<matplotlib.legend.Legend at 0x202a5251b10>"
      ]
     },
     "execution_count": 53,
     "metadata": {},
     "output_type": "execute_result"
    },
    {
     "data": {
      "image/png": "[encoded data removed]",
      "text/plain": [
       "<Figure size 640x480 with 1 Axes>"
      ]
     },
     "metadata": {},
     "output_type": "display_data"
    }
   ],
   "source": [
    "plt.plot(r.history['loss'][10:130],label='loss')\n",
    "plt.plot(r.history['val_loss'][10:130],label='validation_loss')\n",
    "plt.legend()"
   ]
  },
  {
   "cell_type": "markdown",
   "id": "aU_E5m2aKXB4",
   "metadata": {
    "id": "aU_E5m2aKXB4"
   },
   "source": [
    "In this plot, we see that the loss and validation loss are getting lower which means DNN is learning, and the predictions are getting better."
   ]
  },
  {
   "cell_type": "markdown",
   "id": "60ded20a",
   "metadata": {
    "id": "60ded20a"
   },
   "source": [
    "<font size = 4>Evaluate the Model"
   ]
  },
  {
   "cell_type": "code",
   "execution_count": 54,
   "id": "38ae99f4",
   "metadata": {
    "colab": {
     "base_uri": "https://localhost:8080/"
    },
    "id": "38ae99f4",
    "outputId": "2243d74d-4f27-4f8c-f185-10da4bd6aadb",
    "scrolled": true
   },
   "outputs": [
    {
     "name": "stdout",
     "output_type": "stream",
     "text": [
      "5/5 [==============================] - 0s 3ms/step\n",
      "R2: 0.8903633563556062\n",
      "MSE: 300533.0150552237\n",
      "Square root of MSE: 548.2089155196436\n"
     ]
    }
   ],
   "source": [
    "#Get the predicted class probabilities\n",
    "model = load_model(filepath)\n",
    "pred = model.predict(x_test_minmax)\n",
    "\n",
    "dnn_r2 = sklearn.metrics.r2_score(y_test, pred)\n",
    "print('R2:', format(dnn_r2))\n",
    "\n",
    "dnn_mse = sklearn.metrics.mean_squared_error(y_test, pred)\n",
    "print('MSE:', format(dnn_mse))\n",
    "\n",
    "print('Square root of MSE:', np.sqrt(dnn_mse))"
   ]
  },
  {
   "cell_type": "markdown",
   "id": "dc85f013",
   "metadata": {
    "id": "dc85f013"
   },
   "source": [
    "R2 is pretty high, even higher than the other models. That indicates that my model has a good ability to capture and explain the variation in the target variable.\n",
    "\n",
    "MSE came out less than the other algorithms, which means the model's predictions are more accurate and have a lower average squared difference from the true values.\n",
    "\n",
    "Based on the result, I can compare with the target values. The accuracy is %87.8285, which is the the best accuracy compared to the others.\n",
    "\n",
    "Accuracy = ((Mean of the target value - Square root of MSE)*100)/(Mean of target value)"
   ]
  },
  {
   "cell_type": "markdown",
   "id": "7e75d885",
   "metadata": {
    "id": "7e75d885"
   },
   "source": [
    "<font size = 5>Discussion"
   ]
  },
  {
   "attachments": {},
   "cell_type": "markdown",
   "id": "d40c921a",
   "metadata": {
    "id": "d40c921a"
   },
   "source": [
    "After running all the algorithms, Neural Networks is the best algorithm that makes the predictions. Also, Neural Networks is the most popular and cutting-edge ML algorithm in the market right now. I had to make it deeper and increased the number of nodes to improve the accuracy. Initially, I was getting a low MSE in the training data but higher MSE in the testing data, which showed overfitting. In order to fix this, I played with the parameters and the learning rate as well to get the best result.\n",
    "\n",
    "\n",
    "<b>My target variable statistics:</b>\n",
    "<br>Range is between 22 and 8714.\n",
    "<br>Mean: 4504\n",
    "<br>Median: 4548\n",
    "<br>Mode: 1162\n",
    "\n",
    "Below on the \"Accuracy\" line, I have compared each algorithm with the mean of the target value. This way we can compare the accuracy percentage of each model.\n",
    "<br>Accuracy = ((Mean of the target value - Square root of MSE)*100)/(Mean of target value)\n",
    "\n",
    "\n",
    "<b>EACH ALGORITHM MEASUREMENTS</b>\n",
    "\n",
    "<b>Neural Networks</b>\n",
    "<br>R2: 0.8903\n",
    "<br>MSE: 300533.01\n",
    "<br>Square root of MSE: 548.20\n",
    "<br>Accuracy: %87.8285\n",
    "<br>Advantages: It can understand, more complex relationships in the data.\n",
    "<br>Disadvantages: It requires more processing power and time to train. It has very low interpretability. It is hard to know the reason of the prediction.\n",
    "\n",
    "\n",
    "<b>XGBoost</b>\n",
    "<br>R2: 0.89\n",
    "<br>RMSE: 301175.01\n",
    "<br>Square Root of RMSE: 548.79\n",
    "<br>The accuracy: %87.8155\n",
    "<br>Improvement after the cross-validation: %87.38\n",
    "<br>Advantages: It is very flexible. There are a lot of available parameters that we can play with. XGBoost is also very powerful, and it wins a lot of Kaggle competitions.\n",
    "<br>Disadvantages: XGBoost performs best with a sufficient amount of training data. However, my dataset was not very big.\n",
    "\n",
    "\n",
    "<b>Random Forest Regression</b>\n",
    "<br>R2: 0.8849\n",
    "<br>MSE: 315282.72\n",
    "<br>Square Root of MSE: 561.50\n",
    "<br>The accuracy: %87.5332\n",
    "<br>Improvement after the Hyperparameter Tuning: %0.9933\n",
    "<br>Advantages: It is more robust to overfitting. It handles missing data and outliers better.\n",
    "<br>Disadvantages: It is better with a lager dataset. It has a lower explainability than XGBoost because by running the data 100 different trees, it is hard to see with variable is impacting the decision the most.\n"
   ]
  },
  {
   "cell_type": "code",
   "execution_count": null,
   "id": "0a28b1d3",
   "metadata": {},
   "outputs": [],
   "source": []
  }
 ],
 "metadata": {
  "colab": {
   "provenance": []
  },
  "kernelspec": {
   "display_name": "Python 3 (ipykernel)",
   "language": "python",
   "name": "python3"
  },
  "language_info": {
   "codemirror_mode": {
    "name": "ipython",
    "version": 3
   },
   "file_extension": ".py",
   "mimetype": "text/x-python",
   "name": "python",
   "nbconvert_exporter": "python",
   "pygments_lexer": "ipython3",
   "version": "3.10.9"
  }
 },
 "nbformat": 4,
 "nbformat_minor": 5
}
